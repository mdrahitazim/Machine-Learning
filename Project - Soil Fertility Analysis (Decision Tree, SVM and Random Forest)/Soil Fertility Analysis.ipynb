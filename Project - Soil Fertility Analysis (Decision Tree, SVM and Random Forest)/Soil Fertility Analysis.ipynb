{
 "cells": [
  {
   "cell_type": "markdown",
   "id": "27224175",
   "metadata": {},
   "source": [
    "Soil Fertility Analysis"
   ]
  },
  {
   "cell_type": "markdown",
   "id": "95ca65bb",
   "metadata": {},
   "source": [
    "Humus -rich fertile soil - nitrogen and phosphorus"
   ]
  },
  {
   "cell_type": "markdown",
   "id": "8e2dd255",
   "metadata": {},
   "source": [
    "pH - In alkaline lands with a pH greater than 7.5-8, most micronutrients are less available, while acidity contributes to heavy metal accumulation in the fields and reduces phosphorus absorbability."
   ]
  },
  {
   "cell_type": "markdown",
   "id": "ba9281cd",
   "metadata": {},
   "source": [
    "Soil Temperatures - ranging from 18 to 24°C (65 to 75°F) are ideal for most plants."
   ]
  },
  {
   "cell_type": "markdown",
   "id": "826048f0",
   "metadata": {},
   "source": [
    "How To Measure Soil Fertility?"
   ]
  },
  {
   "cell_type": "markdown",
   "id": "ca4460dc",
   "metadata": {},
   "source": [
    "For evaluating the overall quality of the land and its productivity, in particular, it is necessary to conduct soil testing. As a result, the farmer will receive data on the composition, type, mineral content (e.g., nitrogen, potassium, phosphorus), pH level, and other soil fertility indicators. Testing laboratories can also provide an interpretation of these values and general recommendations for adding nutrients to the soil."
   ]
  },
  {
   "cell_type": "markdown",
   "id": "e0851955",
   "metadata": {},
   "source": [
    "We have data of nitrogen, potassium, phosphorus, ph level"
   ]
  },
  {
   "cell_type": "code",
   "execution_count": 286,
   "id": "f9bffc5f",
   "metadata": {},
   "outputs": [],
   "source": [
    "import pandas as pd"
   ]
  },
  {
   "cell_type": "code",
   "execution_count": 287,
   "id": "b09e2bdf",
   "metadata": {},
   "outputs": [],
   "source": [
    "data = pd.read_csv(\"dataset.csv\")"
   ]
  },
  {
   "cell_type": "code",
   "execution_count": 288,
   "id": "e7625662",
   "metadata": {
    "scrolled": true
   },
   "outputs": [
    {
     "data": {
      "text/html": [
       "<div>\n",
       "<style scoped>\n",
       "    .dataframe tbody tr th:only-of-type {\n",
       "        vertical-align: middle;\n",
       "    }\n",
       "\n",
       "    .dataframe tbody tr th {\n",
       "        vertical-align: top;\n",
       "    }\n",
       "\n",
       "    .dataframe thead th {\n",
       "        text-align: right;\n",
       "    }\n",
       "</style>\n",
       "<table border=\"1\" class=\"dataframe\">\n",
       "  <thead>\n",
       "    <tr style=\"text-align: right;\">\n",
       "      <th></th>\n",
       "      <th>N</th>\n",
       "      <th>P</th>\n",
       "      <th>K</th>\n",
       "      <th>pH</th>\n",
       "      <th>EC</th>\n",
       "      <th>OC</th>\n",
       "      <th>S</th>\n",
       "      <th>Zn</th>\n",
       "      <th>Fe</th>\n",
       "      <th>Cu</th>\n",
       "      <th>Mn</th>\n",
       "      <th>B</th>\n",
       "      <th>Output</th>\n",
       "    </tr>\n",
       "  </thead>\n",
       "  <tbody>\n",
       "    <tr>\n",
       "      <th>0</th>\n",
       "      <td>138</td>\n",
       "      <td>8.6</td>\n",
       "      <td>560</td>\n",
       "      <td>7.46</td>\n",
       "      <td>0.62</td>\n",
       "      <td>0.70</td>\n",
       "      <td>5.90</td>\n",
       "      <td>0.24</td>\n",
       "      <td>0.31</td>\n",
       "      <td>0.77</td>\n",
       "      <td>8.71</td>\n",
       "      <td>0.11</td>\n",
       "      <td>0</td>\n",
       "    </tr>\n",
       "    <tr>\n",
       "      <th>1</th>\n",
       "      <td>213</td>\n",
       "      <td>7.5</td>\n",
       "      <td>338</td>\n",
       "      <td>7.62</td>\n",
       "      <td>0.75</td>\n",
       "      <td>1.06</td>\n",
       "      <td>25.40</td>\n",
       "      <td>0.30</td>\n",
       "      <td>0.86</td>\n",
       "      <td>1.54</td>\n",
       "      <td>2.89</td>\n",
       "      <td>2.29</td>\n",
       "      <td>0</td>\n",
       "    </tr>\n",
       "    <tr>\n",
       "      <th>2</th>\n",
       "      <td>163</td>\n",
       "      <td>9.6</td>\n",
       "      <td>718</td>\n",
       "      <td>7.59</td>\n",
       "      <td>0.51</td>\n",
       "      <td>1.11</td>\n",
       "      <td>14.30</td>\n",
       "      <td>0.30</td>\n",
       "      <td>0.86</td>\n",
       "      <td>1.57</td>\n",
       "      <td>2.70</td>\n",
       "      <td>2.03</td>\n",
       "      <td>0</td>\n",
       "    </tr>\n",
       "    <tr>\n",
       "      <th>3</th>\n",
       "      <td>157</td>\n",
       "      <td>6.8</td>\n",
       "      <td>475</td>\n",
       "      <td>7.64</td>\n",
       "      <td>0.58</td>\n",
       "      <td>0.94</td>\n",
       "      <td>26.00</td>\n",
       "      <td>0.34</td>\n",
       "      <td>0.54</td>\n",
       "      <td>1.53</td>\n",
       "      <td>2.65</td>\n",
       "      <td>1.82</td>\n",
       "      <td>0</td>\n",
       "    </tr>\n",
       "    <tr>\n",
       "      <th>4</th>\n",
       "      <td>270</td>\n",
       "      <td>9.9</td>\n",
       "      <td>444</td>\n",
       "      <td>7.63</td>\n",
       "      <td>0.40</td>\n",
       "      <td>0.86</td>\n",
       "      <td>11.80</td>\n",
       "      <td>0.25</td>\n",
       "      <td>0.76</td>\n",
       "      <td>1.69</td>\n",
       "      <td>2.43</td>\n",
       "      <td>2.26</td>\n",
       "      <td>1</td>\n",
       "    </tr>\n",
       "    <tr>\n",
       "      <th>...</th>\n",
       "      <td>...</td>\n",
       "      <td>...</td>\n",
       "      <td>...</td>\n",
       "      <td>...</td>\n",
       "      <td>...</td>\n",
       "      <td>...</td>\n",
       "      <td>...</td>\n",
       "      <td>...</td>\n",
       "      <td>...</td>\n",
       "      <td>...</td>\n",
       "      <td>...</td>\n",
       "      <td>...</td>\n",
       "      <td>...</td>\n",
       "    </tr>\n",
       "    <tr>\n",
       "      <th>875</th>\n",
       "      <td>351</td>\n",
       "      <td>10.7</td>\n",
       "      <td>623</td>\n",
       "      <td>7.96</td>\n",
       "      <td>0.51</td>\n",
       "      <td>0.29</td>\n",
       "      <td>7.24</td>\n",
       "      <td>0.36</td>\n",
       "      <td>4.69</td>\n",
       "      <td>0.69</td>\n",
       "      <td>11.03</td>\n",
       "      <td>0.69</td>\n",
       "      <td>1</td>\n",
       "    </tr>\n",
       "    <tr>\n",
       "      <th>876</th>\n",
       "      <td>264</td>\n",
       "      <td>9.0</td>\n",
       "      <td>486</td>\n",
       "      <td>7.24</td>\n",
       "      <td>0.47</td>\n",
       "      <td>0.10</td>\n",
       "      <td>3.92</td>\n",
       "      <td>0.35</td>\n",
       "      <td>8.26</td>\n",
       "      <td>0.45</td>\n",
       "      <td>7.98</td>\n",
       "      <td>0.40</td>\n",
       "      <td>1</td>\n",
       "    </tr>\n",
       "    <tr>\n",
       "      <th>877</th>\n",
       "      <td>276</td>\n",
       "      <td>9.2</td>\n",
       "      <td>370</td>\n",
       "      <td>7.62</td>\n",
       "      <td>0.62</td>\n",
       "      <td>0.49</td>\n",
       "      <td>6.64</td>\n",
       "      <td>0.42</td>\n",
       "      <td>3.57</td>\n",
       "      <td>0.63</td>\n",
       "      <td>6.48</td>\n",
       "      <td>0.32</td>\n",
       "      <td>1</td>\n",
       "    </tr>\n",
       "    <tr>\n",
       "      <th>878</th>\n",
       "      <td>320</td>\n",
       "      <td>13.8</td>\n",
       "      <td>391</td>\n",
       "      <td>7.38</td>\n",
       "      <td>0.65</td>\n",
       "      <td>1.07</td>\n",
       "      <td>5.43</td>\n",
       "      <td>0.58</td>\n",
       "      <td>4.58</td>\n",
       "      <td>1.02</td>\n",
       "      <td>13.25</td>\n",
       "      <td>0.53</td>\n",
       "      <td>2</td>\n",
       "    </tr>\n",
       "    <tr>\n",
       "      <th>879</th>\n",
       "      <td>264</td>\n",
       "      <td>10.3</td>\n",
       "      <td>475</td>\n",
       "      <td>7.49</td>\n",
       "      <td>0.74</td>\n",
       "      <td>0.88</td>\n",
       "      <td>10.56</td>\n",
       "      <td>0.45</td>\n",
       "      <td>7.36</td>\n",
       "      <td>1.87</td>\n",
       "      <td>10.63</td>\n",
       "      <td>0.63</td>\n",
       "      <td>0</td>\n",
       "    </tr>\n",
       "  </tbody>\n",
       "</table>\n",
       "<p>880 rows × 13 columns</p>\n",
       "</div>"
      ],
      "text/plain": [
       "       N     P    K    pH    EC    OC      S    Zn    Fe    Cu     Mn     B  \\\n",
       "0    138   8.6  560  7.46  0.62  0.70   5.90  0.24  0.31  0.77   8.71  0.11   \n",
       "1    213   7.5  338  7.62  0.75  1.06  25.40  0.30  0.86  1.54   2.89  2.29   \n",
       "2    163   9.6  718  7.59  0.51  1.11  14.30  0.30  0.86  1.57   2.70  2.03   \n",
       "3    157   6.8  475  7.64  0.58  0.94  26.00  0.34  0.54  1.53   2.65  1.82   \n",
       "4    270   9.9  444  7.63  0.40  0.86  11.80  0.25  0.76  1.69   2.43  2.26   \n",
       "..   ...   ...  ...   ...   ...   ...    ...   ...   ...   ...    ...   ...   \n",
       "875  351  10.7  623  7.96  0.51  0.29   7.24  0.36  4.69  0.69  11.03  0.69   \n",
       "876  264   9.0  486  7.24  0.47  0.10   3.92  0.35  8.26  0.45   7.98  0.40   \n",
       "877  276   9.2  370  7.62  0.62  0.49   6.64  0.42  3.57  0.63   6.48  0.32   \n",
       "878  320  13.8  391  7.38  0.65  1.07   5.43  0.58  4.58  1.02  13.25  0.53   \n",
       "879  264  10.3  475  7.49  0.74  0.88  10.56  0.45  7.36  1.87  10.63  0.63   \n",
       "\n",
       "     Output  \n",
       "0         0  \n",
       "1         0  \n",
       "2         0  \n",
       "3         0  \n",
       "4         1  \n",
       "..      ...  \n",
       "875       1  \n",
       "876       1  \n",
       "877       1  \n",
       "878       2  \n",
       "879       0  \n",
       "\n",
       "[880 rows x 13 columns]"
      ]
     },
     "execution_count": 288,
     "metadata": {},
     "output_type": "execute_result"
    }
   ],
   "source": [
    "data"
   ]
  },
  {
   "cell_type": "code",
   "execution_count": 289,
   "id": "826f7948",
   "metadata": {},
   "outputs": [
    {
     "data": {
      "text/plain": [
       "(880, 13)"
      ]
     },
     "execution_count": 289,
     "metadata": {},
     "output_type": "execute_result"
    }
   ],
   "source": [
    "data.shape"
   ]
  },
  {
   "cell_type": "code",
   "execution_count": 290,
   "id": "d6330f54",
   "metadata": {
    "scrolled": false
   },
   "outputs": [
    {
     "data": {
      "text/html": [
       "<div>\n",
       "<style scoped>\n",
       "    .dataframe tbody tr th:only-of-type {\n",
       "        vertical-align: middle;\n",
       "    }\n",
       "\n",
       "    .dataframe tbody tr th {\n",
       "        vertical-align: top;\n",
       "    }\n",
       "\n",
       "    .dataframe thead th {\n",
       "        text-align: right;\n",
       "    }\n",
       "</style>\n",
       "<table border=\"1\" class=\"dataframe\">\n",
       "  <thead>\n",
       "    <tr style=\"text-align: right;\">\n",
       "      <th></th>\n",
       "      <th>N</th>\n",
       "      <th>P</th>\n",
       "      <th>K</th>\n",
       "      <th>pH</th>\n",
       "      <th>EC</th>\n",
       "      <th>OC</th>\n",
       "      <th>S</th>\n",
       "      <th>Zn</th>\n",
       "      <th>Fe</th>\n",
       "      <th>Cu</th>\n",
       "      <th>Mn</th>\n",
       "      <th>B</th>\n",
       "      <th>Output</th>\n",
       "    </tr>\n",
       "  </thead>\n",
       "  <tbody>\n",
       "    <tr>\n",
       "      <th>count</th>\n",
       "      <td>880.00000</td>\n",
       "      <td>880.000000</td>\n",
       "      <td>880.000000</td>\n",
       "      <td>880.000000</td>\n",
       "      <td>880.000000</td>\n",
       "      <td>880.000000</td>\n",
       "      <td>880.000000</td>\n",
       "      <td>880.000000</td>\n",
       "      <td>880.000000</td>\n",
       "      <td>880.000000</td>\n",
       "      <td>880.000000</td>\n",
       "      <td>880.000000</td>\n",
       "      <td>880.000000</td>\n",
       "    </tr>\n",
       "    <tr>\n",
       "      <th>mean</th>\n",
       "      <td>246.73750</td>\n",
       "      <td>14.562159</td>\n",
       "      <td>499.978409</td>\n",
       "      <td>7.510500</td>\n",
       "      <td>0.543659</td>\n",
       "      <td>0.617989</td>\n",
       "      <td>7.545080</td>\n",
       "      <td>0.469273</td>\n",
       "      <td>4.140523</td>\n",
       "      <td>0.952443</td>\n",
       "      <td>8.666500</td>\n",
       "      <td>0.590159</td>\n",
       "      <td>0.588636</td>\n",
       "    </tr>\n",
       "    <tr>\n",
       "      <th>std</th>\n",
       "      <td>77.38886</td>\n",
       "      <td>21.967755</td>\n",
       "      <td>124.222838</td>\n",
       "      <td>0.464912</td>\n",
       "      <td>0.141597</td>\n",
       "      <td>0.842986</td>\n",
       "      <td>4.424184</td>\n",
       "      <td>1.894234</td>\n",
       "      <td>3.110011</td>\n",
       "      <td>0.465900</td>\n",
       "      <td>4.298828</td>\n",
       "      <td>0.570800</td>\n",
       "      <td>0.575462</td>\n",
       "    </tr>\n",
       "    <tr>\n",
       "      <th>min</th>\n",
       "      <td>6.00000</td>\n",
       "      <td>2.900000</td>\n",
       "      <td>11.000000</td>\n",
       "      <td>0.900000</td>\n",
       "      <td>0.100000</td>\n",
       "      <td>0.100000</td>\n",
       "      <td>0.640000</td>\n",
       "      <td>0.070000</td>\n",
       "      <td>0.210000</td>\n",
       "      <td>0.090000</td>\n",
       "      <td>0.110000</td>\n",
       "      <td>0.060000</td>\n",
       "      <td>0.000000</td>\n",
       "    </tr>\n",
       "    <tr>\n",
       "      <th>25%</th>\n",
       "      <td>201.00000</td>\n",
       "      <td>6.800000</td>\n",
       "      <td>412.000000</td>\n",
       "      <td>7.350000</td>\n",
       "      <td>0.430000</td>\n",
       "      <td>0.380000</td>\n",
       "      <td>4.700000</td>\n",
       "      <td>0.280000</td>\n",
       "      <td>2.050000</td>\n",
       "      <td>0.630000</td>\n",
       "      <td>6.225000</td>\n",
       "      <td>0.270000</td>\n",
       "      <td>0.000000</td>\n",
       "    </tr>\n",
       "    <tr>\n",
       "      <th>50%</th>\n",
       "      <td>257.00000</td>\n",
       "      <td>8.100000</td>\n",
       "      <td>475.000000</td>\n",
       "      <td>7.500000</td>\n",
       "      <td>0.545000</td>\n",
       "      <td>0.590000</td>\n",
       "      <td>6.640000</td>\n",
       "      <td>0.360000</td>\n",
       "      <td>3.565000</td>\n",
       "      <td>0.930000</td>\n",
       "      <td>8.345000</td>\n",
       "      <td>0.405000</td>\n",
       "      <td>1.000000</td>\n",
       "    </tr>\n",
       "    <tr>\n",
       "      <th>75%</th>\n",
       "      <td>307.00000</td>\n",
       "      <td>10.550000</td>\n",
       "      <td>581.000000</td>\n",
       "      <td>7.630000</td>\n",
       "      <td>0.640000</td>\n",
       "      <td>0.780000</td>\n",
       "      <td>8.750000</td>\n",
       "      <td>0.470000</td>\n",
       "      <td>6.320000</td>\n",
       "      <td>1.250000</td>\n",
       "      <td>11.472500</td>\n",
       "      <td>0.610000</td>\n",
       "      <td>1.000000</td>\n",
       "    </tr>\n",
       "    <tr>\n",
       "      <th>max</th>\n",
       "      <td>383.00000</td>\n",
       "      <td>125.000000</td>\n",
       "      <td>887.000000</td>\n",
       "      <td>11.150000</td>\n",
       "      <td>0.950000</td>\n",
       "      <td>24.000000</td>\n",
       "      <td>31.000000</td>\n",
       "      <td>42.000000</td>\n",
       "      <td>44.000000</td>\n",
       "      <td>3.020000</td>\n",
       "      <td>31.000000</td>\n",
       "      <td>2.820000</td>\n",
       "      <td>2.000000</td>\n",
       "    </tr>\n",
       "  </tbody>\n",
       "</table>\n",
       "</div>"
      ],
      "text/plain": [
       "               N           P           K          pH          EC          OC  \\\n",
       "count  880.00000  880.000000  880.000000  880.000000  880.000000  880.000000   \n",
       "mean   246.73750   14.562159  499.978409    7.510500    0.543659    0.617989   \n",
       "std     77.38886   21.967755  124.222838    0.464912    0.141597    0.842986   \n",
       "min      6.00000    2.900000   11.000000    0.900000    0.100000    0.100000   \n",
       "25%    201.00000    6.800000  412.000000    7.350000    0.430000    0.380000   \n",
       "50%    257.00000    8.100000  475.000000    7.500000    0.545000    0.590000   \n",
       "75%    307.00000   10.550000  581.000000    7.630000    0.640000    0.780000   \n",
       "max    383.00000  125.000000  887.000000   11.150000    0.950000   24.000000   \n",
       "\n",
       "                S          Zn          Fe          Cu          Mn           B  \\\n",
       "count  880.000000  880.000000  880.000000  880.000000  880.000000  880.000000   \n",
       "mean     7.545080    0.469273    4.140523    0.952443    8.666500    0.590159   \n",
       "std      4.424184    1.894234    3.110011    0.465900    4.298828    0.570800   \n",
       "min      0.640000    0.070000    0.210000    0.090000    0.110000    0.060000   \n",
       "25%      4.700000    0.280000    2.050000    0.630000    6.225000    0.270000   \n",
       "50%      6.640000    0.360000    3.565000    0.930000    8.345000    0.405000   \n",
       "75%      8.750000    0.470000    6.320000    1.250000   11.472500    0.610000   \n",
       "max     31.000000   42.000000   44.000000    3.020000   31.000000    2.820000   \n",
       "\n",
       "           Output  \n",
       "count  880.000000  \n",
       "mean     0.588636  \n",
       "std      0.575462  \n",
       "min      0.000000  \n",
       "25%      0.000000  \n",
       "50%      1.000000  \n",
       "75%      1.000000  \n",
       "max      2.000000  "
      ]
     },
     "execution_count": 290,
     "metadata": {},
     "output_type": "execute_result"
    }
   ],
   "source": [
    "data.describe()"
   ]
  },
  {
   "cell_type": "code",
   "execution_count": 291,
   "id": "8d4d894c",
   "metadata": {
    "scrolled": true
   },
   "outputs": [
    {
     "data": {
      "text/plain": [
       "<AxesSubplot:>"
      ]
     },
     "execution_count": 291,
     "metadata": {},
     "output_type": "execute_result"
    },
    {
     "data": {
      "image/png": "[encoded data removed]",
      "text/plain": [
       "<Figure size 1656x1656 with 1 Axes>"
      ]
     },
     "metadata": {
      "needs_background": "light"
     },
     "output_type": "display_data"
    }
   ],
   "source": [
    "data.boxplot(figsize=(23,23))"
   ]
  },
  {
   "cell_type": "markdown",
   "id": "793d80b6",
   "metadata": {},
   "source": [
    "as we can see there are outliers in the data, we need to remove them first"
   ]
  },
  {
   "cell_type": "code",
   "execution_count": 292,
   "id": "74aa31c2",
   "metadata": {
    "scrolled": false
   },
   "outputs": [
    {
     "data": {
      "text/plain": [
       "<AxesSubplot:>"
      ]
     },
     "execution_count": 292,
     "metadata": {},
     "output_type": "execute_result"
    },
    {
     "data": {
      "image/png": "[encoded data removed]",
      "text/plain": [
       "<Figure size 1224x1224 with 1 Axes>"
      ]
     },
     "metadata": {
      "needs_background": "light"
     },
     "output_type": "display_data"
    }
   ],
   "source": [
    "data[['pH']].boxplot(figsize=(17,17))"
   ]
  },
  {
   "cell_type": "markdown",
   "id": "f710f9f7",
   "metadata": {},
   "source": [
    "above cell : showing outliers in pH value\n",
    "\n",
    "below cell : below cell are just done before knowing about the outlier,\n",
    "\n",
    "i understand that there are outliers present in the data through the plotting of histograms"
   ]
  },
  {
   "cell_type": "code",
   "execution_count": 293,
   "id": "4d16aa8b",
   "metadata": {
    "scrolled": true
   },
   "outputs": [
    {
     "data": {
      "text/html": [
       "<div>\n",
       "<style scoped>\n",
       "    .dataframe tbody tr th:only-of-type {\n",
       "        vertical-align: middle;\n",
       "    }\n",
       "\n",
       "    .dataframe tbody tr th {\n",
       "        vertical-align: top;\n",
       "    }\n",
       "\n",
       "    .dataframe thead th {\n",
       "        text-align: right;\n",
       "    }\n",
       "</style>\n",
       "<table border=\"1\" class=\"dataframe\">\n",
       "  <thead>\n",
       "    <tr style=\"text-align: right;\">\n",
       "      <th></th>\n",
       "      <th>N</th>\n",
       "      <th>P</th>\n",
       "      <th>K</th>\n",
       "      <th>pH</th>\n",
       "      <th>EC</th>\n",
       "      <th>OC</th>\n",
       "      <th>S</th>\n",
       "      <th>Zn</th>\n",
       "      <th>Fe</th>\n",
       "      <th>Cu</th>\n",
       "      <th>Mn</th>\n",
       "      <th>B</th>\n",
       "      <th>Output</th>\n",
       "    </tr>\n",
       "  </thead>\n",
       "  <tbody>\n",
       "    <tr>\n",
       "      <th>N</th>\n",
       "      <td>1.000000</td>\n",
       "      <td>-0.010049</td>\n",
       "      <td>0.050616</td>\n",
       "      <td>0.075138</td>\n",
       "      <td>-0.005646</td>\n",
       "      <td>0.029887</td>\n",
       "      <td>-0.124959</td>\n",
       "      <td>0.054240</td>\n",
       "      <td>0.076108</td>\n",
       "      <td>-0.183832</td>\n",
       "      <td>0.105870</td>\n",
       "      <td>-0.170835</td>\n",
       "      <td>0.707383</td>\n",
       "    </tr>\n",
       "    <tr>\n",
       "      <th>P</th>\n",
       "      <td>-0.010049</td>\n",
       "      <td>1.000000</td>\n",
       "      <td>0.086964</td>\n",
       "      <td>0.004857</td>\n",
       "      <td>0.006082</td>\n",
       "      <td>-0.008996</td>\n",
       "      <td>-0.100204</td>\n",
       "      <td>-0.016912</td>\n",
       "      <td>0.141165</td>\n",
       "      <td>0.054689</td>\n",
       "      <td>0.045265</td>\n",
       "      <td>-0.097401</td>\n",
       "      <td>0.212780</td>\n",
       "    </tr>\n",
       "    <tr>\n",
       "      <th>K</th>\n",
       "      <td>0.050616</td>\n",
       "      <td>0.086964</td>\n",
       "      <td>1.000000</td>\n",
       "      <td>0.002661</td>\n",
       "      <td>-0.109726</td>\n",
       "      <td>-0.029005</td>\n",
       "      <td>0.026489</td>\n",
       "      <td>-0.002511</td>\n",
       "      <td>-0.053442</td>\n",
       "      <td>-0.005597</td>\n",
       "      <td>0.021157</td>\n",
       "      <td>0.108025</td>\n",
       "      <td>0.059666</td>\n",
       "    </tr>\n",
       "    <tr>\n",
       "      <th>pH</th>\n",
       "      <td>0.075138</td>\n",
       "      <td>0.004857</td>\n",
       "      <td>0.002661</td>\n",
       "      <td>1.000000</td>\n",
       "      <td>0.058217</td>\n",
       "      <td>-0.015926</td>\n",
       "      <td>0.013164</td>\n",
       "      <td>-0.008321</td>\n",
       "      <td>-0.032685</td>\n",
       "      <td>-0.000223</td>\n",
       "      <td>-0.008488</td>\n",
       "      <td>0.010115</td>\n",
       "      <td>0.082584</td>\n",
       "    </tr>\n",
       "    <tr>\n",
       "      <th>EC</th>\n",
       "      <td>-0.005646</td>\n",
       "      <td>0.006082</td>\n",
       "      <td>-0.109726</td>\n",
       "      <td>0.058217</td>\n",
       "      <td>1.000000</td>\n",
       "      <td>-0.007045</td>\n",
       "      <td>0.051810</td>\n",
       "      <td>-0.035703</td>\n",
       "      <td>-0.041525</td>\n",
       "      <td>0.035638</td>\n",
       "      <td>-0.043662</td>\n",
       "      <td>-0.004469</td>\n",
       "      <td>-0.025346</td>\n",
       "    </tr>\n",
       "    <tr>\n",
       "      <th>OC</th>\n",
       "      <td>0.029887</td>\n",
       "      <td>-0.008996</td>\n",
       "      <td>-0.029005</td>\n",
       "      <td>-0.015926</td>\n",
       "      <td>-0.007045</td>\n",
       "      <td>1.000000</td>\n",
       "      <td>0.046813</td>\n",
       "      <td>0.625683</td>\n",
       "      <td>0.282128</td>\n",
       "      <td>-0.009703</td>\n",
       "      <td>-0.078540</td>\n",
       "      <td>0.106760</td>\n",
       "      <td>0.035416</td>\n",
       "    </tr>\n",
       "    <tr>\n",
       "      <th>S</th>\n",
       "      <td>-0.124959</td>\n",
       "      <td>-0.100204</td>\n",
       "      <td>0.026489</td>\n",
       "      <td>0.013164</td>\n",
       "      <td>0.051810</td>\n",
       "      <td>0.046813</td>\n",
       "      <td>1.000000</td>\n",
       "      <td>-0.013870</td>\n",
       "      <td>-0.208752</td>\n",
       "      <td>0.158130</td>\n",
       "      <td>-0.226249</td>\n",
       "      <td>0.478017</td>\n",
       "      <td>-0.061733</td>\n",
       "    </tr>\n",
       "    <tr>\n",
       "      <th>Zn</th>\n",
       "      <td>0.054240</td>\n",
       "      <td>-0.016912</td>\n",
       "      <td>-0.002511</td>\n",
       "      <td>-0.008321</td>\n",
       "      <td>-0.035703</td>\n",
       "      <td>0.625683</td>\n",
       "      <td>-0.013870</td>\n",
       "      <td>1.000000</td>\n",
       "      <td>0.548485</td>\n",
       "      <td>-0.051229</td>\n",
       "      <td>-0.065154</td>\n",
       "      <td>0.056252</td>\n",
       "      <td>0.032089</td>\n",
       "    </tr>\n",
       "    <tr>\n",
       "      <th>Fe</th>\n",
       "      <td>0.076108</td>\n",
       "      <td>0.141165</td>\n",
       "      <td>-0.053442</td>\n",
       "      <td>-0.032685</td>\n",
       "      <td>-0.041525</td>\n",
       "      <td>0.282128</td>\n",
       "      <td>-0.208752</td>\n",
       "      <td>0.548485</td>\n",
       "      <td>1.000000</td>\n",
       "      <td>0.138121</td>\n",
       "      <td>0.275564</td>\n",
       "      <td>-0.332181</td>\n",
       "      <td>0.037625</td>\n",
       "    </tr>\n",
       "    <tr>\n",
       "      <th>Cu</th>\n",
       "      <td>-0.183832</td>\n",
       "      <td>0.054689</td>\n",
       "      <td>-0.005597</td>\n",
       "      <td>-0.000223</td>\n",
       "      <td>0.035638</td>\n",
       "      <td>-0.009703</td>\n",
       "      <td>0.158130</td>\n",
       "      <td>-0.051229</td>\n",
       "      <td>0.138121</td>\n",
       "      <td>1.000000</td>\n",
       "      <td>0.079934</td>\n",
       "      <td>0.101115</td>\n",
       "      <td>-0.136954</td>\n",
       "    </tr>\n",
       "    <tr>\n",
       "      <th>Mn</th>\n",
       "      <td>0.105870</td>\n",
       "      <td>0.045265</td>\n",
       "      <td>0.021157</td>\n",
       "      <td>-0.008488</td>\n",
       "      <td>-0.043662</td>\n",
       "      <td>-0.078540</td>\n",
       "      <td>-0.226249</td>\n",
       "      <td>-0.065154</td>\n",
       "      <td>0.275564</td>\n",
       "      <td>0.079934</td>\n",
       "      <td>1.000000</td>\n",
       "      <td>-0.413963</td>\n",
       "      <td>0.045976</td>\n",
       "    </tr>\n",
       "    <tr>\n",
       "      <th>B</th>\n",
       "      <td>-0.170835</td>\n",
       "      <td>-0.097401</td>\n",
       "      <td>0.108025</td>\n",
       "      <td>0.010115</td>\n",
       "      <td>-0.004469</td>\n",
       "      <td>0.106760</td>\n",
       "      <td>0.478017</td>\n",
       "      <td>0.056252</td>\n",
       "      <td>-0.332181</td>\n",
       "      <td>0.101115</td>\n",
       "      <td>-0.413963</td>\n",
       "      <td>1.000000</td>\n",
       "      <td>-0.033188</td>\n",
       "    </tr>\n",
       "    <tr>\n",
       "      <th>Output</th>\n",
       "      <td>0.707383</td>\n",
       "      <td>0.212780</td>\n",
       "      <td>0.059666</td>\n",
       "      <td>0.082584</td>\n",
       "      <td>-0.025346</td>\n",
       "      <td>0.035416</td>\n",
       "      <td>-0.061733</td>\n",
       "      <td>0.032089</td>\n",
       "      <td>0.037625</td>\n",
       "      <td>-0.136954</td>\n",
       "      <td>0.045976</td>\n",
       "      <td>-0.033188</td>\n",
       "      <td>1.000000</td>\n",
       "    </tr>\n",
       "  </tbody>\n",
       "</table>\n",
       "</div>"
      ],
      "text/plain": [
       "               N         P         K        pH        EC        OC         S  \\\n",
       "N       1.000000 -0.010049  0.050616  0.075138 -0.005646  0.029887 -0.124959   \n",
       "P      -0.010049  1.000000  0.086964  0.004857  0.006082 -0.008996 -0.100204   \n",
       "K       0.050616  0.086964  1.000000  0.002661 -0.109726 -0.029005  0.026489   \n",
       "pH      0.075138  0.004857  0.002661  1.000000  0.058217 -0.015926  0.013164   \n",
       "EC     -0.005646  0.006082 -0.109726  0.058217  1.000000 -0.007045  0.051810   \n",
       "OC      0.029887 -0.008996 -0.029005 -0.015926 -0.007045  1.000000  0.046813   \n",
       "S      -0.124959 -0.100204  0.026489  0.013164  0.051810  0.046813  1.000000   \n",
       "Zn      0.054240 -0.016912 -0.002511 -0.008321 -0.035703  0.625683 -0.013870   \n",
       "Fe      0.076108  0.141165 -0.053442 -0.032685 -0.041525  0.282128 -0.208752   \n",
       "Cu     -0.183832  0.054689 -0.005597 -0.000223  0.035638 -0.009703  0.158130   \n",
       "Mn      0.105870  0.045265  0.021157 -0.008488 -0.043662 -0.078540 -0.226249   \n",
       "B      -0.170835 -0.097401  0.108025  0.010115 -0.004469  0.106760  0.478017   \n",
       "Output  0.707383  0.212780  0.059666  0.082584 -0.025346  0.035416 -0.061733   \n",
       "\n",
       "              Zn        Fe        Cu        Mn         B    Output  \n",
       "N       0.054240  0.076108 -0.183832  0.105870 -0.170835  0.707383  \n",
       "P      -0.016912  0.141165  0.054689  0.045265 -0.097401  0.212780  \n",
       "K      -0.002511 -0.053442 -0.005597  0.021157  0.108025  0.059666  \n",
       "pH     -0.008321 -0.032685 -0.000223 -0.008488  0.010115  0.082584  \n",
       "EC     -0.035703 -0.041525  0.035638 -0.043662 -0.004469 -0.025346  \n",
       "OC      0.625683  0.282128 -0.009703 -0.078540  0.106760  0.035416  \n",
       "S      -0.013870 -0.208752  0.158130 -0.226249  0.478017 -0.061733  \n",
       "Zn      1.000000  0.548485 -0.051229 -0.065154  0.056252  0.032089  \n",
       "Fe      0.548485  1.000000  0.138121  0.275564 -0.332181  0.037625  \n",
       "Cu     -0.051229  0.138121  1.000000  0.079934  0.101115 -0.136954  \n",
       "Mn     -0.065154  0.275564  0.079934  1.000000 -0.413963  0.045976  \n",
       "B       0.056252 -0.332181  0.101115 -0.413963  1.000000 -0.033188  \n",
       "Output  0.032089  0.037625 -0.136954  0.045976 -0.033188  1.000000  "
      ]
     },
     "execution_count": 293,
     "metadata": {},
     "output_type": "execute_result"
    }
   ],
   "source": [
    "data.corr()"
   ]
  },
  {
   "cell_type": "markdown",
   "id": "4bf96a52",
   "metadata": {},
   "source": [
    "we will take the values which are positively corelated, the logic behind using correlation for feature selection is that good variables correlate highly with the target"
   ]
  },
  {
   "cell_type": "markdown",
   "id": "5095f92f",
   "metadata": {},
   "source": [
    "What Minerals Make Soil Rich And Fertile?"
   ]
  },
  {
   "cell_type": "markdown",
   "id": "51dca0fe",
   "metadata": {},
   "source": [
    "Name\tFunctions\n",
    "\n",
    "Nitrogen (N)\tis required for the formation of chlorophyll;\n",
    "contributes to the development of leaves and overall crop growth.\n",
    "\n",
    "Phosphorus (P)\t promotes the development of roots, buds, flowers, and seeds;\n",
    "helps plants to survive extremely cold winters and general environmental stress.\n",
    "\n",
    "Potassium (K)\timproves metabolism and moisture retention;\n",
    "increases resistance to pathogens.\n",
    "\n",
    "Magnesium (Mg)\ta chlorophyll component required for the formation of the green color of leaves and photosynthesis.\n",
    "\n",
    "Sulfur (S)\taids in disease resistance;\n",
    "is found in enzymes, amino acids, proteins, and vitamins.\n",
    "\n",
    "Calcium (Ca)\tcontributes to plant immunity by participating in the formation of cell walls;\n",
    "facilitates nitrogen metabolism and assimilation.\n",
    "\n",
    "In addition to the minerals listed, plants also need trace amounts of the following eight micronutrients: iron (Fe), copper (Cu), manganese (Mn), molybdenum (Mo), boron (B), zinc (Zn), nickel (Ni), chlorine (Cl)."
   ]
  },
  {
   "cell_type": "code",
   "execution_count": 294,
   "id": "3200b156",
   "metadata": {},
   "outputs": [
    {
     "data": {
      "text/plain": [
       "1    440\n",
       "0    401\n",
       "2     39\n",
       "Name: Output, dtype: int64"
      ]
     },
     "execution_count": 294,
     "metadata": {},
     "output_type": "execute_result"
    }
   ],
   "source": [
    "data[\"Output\"].value_counts()"
   ]
  },
  {
   "cell_type": "code",
   "execution_count": 295,
   "id": "5841210d",
   "metadata": {
    "scrolled": true
   },
   "outputs": [
    {
     "data": {
      "text/html": [
       "<div>\n",
       "<style scoped>\n",
       "    .dataframe tbody tr th:only-of-type {\n",
       "        vertical-align: middle;\n",
       "    }\n",
       "\n",
       "    .dataframe tbody tr th {\n",
       "        vertical-align: top;\n",
       "    }\n",
       "\n",
       "    .dataframe thead th {\n",
       "        text-align: right;\n",
       "    }\n",
       "</style>\n",
       "<table border=\"1\" class=\"dataframe\">\n",
       "  <thead>\n",
       "    <tr style=\"text-align: right;\">\n",
       "      <th></th>\n",
       "      <th>Output</th>\n",
       "    </tr>\n",
       "  </thead>\n",
       "  <tbody>\n",
       "    <tr>\n",
       "      <th>0</th>\n",
       "      <td>0</td>\n",
       "    </tr>\n",
       "    <tr>\n",
       "      <th>1</th>\n",
       "      <td>0</td>\n",
       "    </tr>\n",
       "    <tr>\n",
       "      <th>2</th>\n",
       "      <td>0</td>\n",
       "    </tr>\n",
       "    <tr>\n",
       "      <th>3</th>\n",
       "      <td>0</td>\n",
       "    </tr>\n",
       "    <tr>\n",
       "      <th>4</th>\n",
       "      <td>1</td>\n",
       "    </tr>\n",
       "    <tr>\n",
       "      <th>...</th>\n",
       "      <td>...</td>\n",
       "    </tr>\n",
       "    <tr>\n",
       "      <th>875</th>\n",
       "      <td>1</td>\n",
       "    </tr>\n",
       "    <tr>\n",
       "      <th>876</th>\n",
       "      <td>1</td>\n",
       "    </tr>\n",
       "    <tr>\n",
       "      <th>877</th>\n",
       "      <td>1</td>\n",
       "    </tr>\n",
       "    <tr>\n",
       "      <th>878</th>\n",
       "      <td>2</td>\n",
       "    </tr>\n",
       "    <tr>\n",
       "      <th>879</th>\n",
       "      <td>0</td>\n",
       "    </tr>\n",
       "  </tbody>\n",
       "</table>\n",
       "<p>880 rows × 1 columns</p>\n",
       "</div>"
      ],
      "text/plain": [
       "     Output\n",
       "0         0\n",
       "1         0\n",
       "2         0\n",
       "3         0\n",
       "4         1\n",
       "..      ...\n",
       "875       1\n",
       "876       1\n",
       "877       1\n",
       "878       2\n",
       "879       0\n",
       "\n",
       "[880 rows x 1 columns]"
      ]
     },
     "execution_count": 295,
     "metadata": {},
     "output_type": "execute_result"
    }
   ],
   "source": [
    "output = data[['Output']]\n",
    "output"
   ]
  },
  {
   "cell_type": "code",
   "execution_count": 296,
   "id": "e4efd7b2",
   "metadata": {},
   "outputs": [
    {
     "data": {
      "text/plain": [
       "array([[<AxesSubplot:title={'center':'Output'}>]], dtype=object)"
      ]
     },
     "execution_count": 296,
     "metadata": {},
     "output_type": "execute_result"
    },
    {
     "data": {
      "image/png": "[encoded data removed]",
      "text/plain": [
       "<Figure size 432x288 with 1 Axes>"
      ]
     },
     "metadata": {
      "needs_background": "light"
     },
     "output_type": "display_data"
    }
   ],
   "source": [
    "output.hist(bins = 25)"
   ]
  },
  {
   "cell_type": "code",
   "execution_count": 297,
   "id": "22e327bd",
   "metadata": {},
   "outputs": [
    {
     "data": {
      "text/html": [
       "<div>\n",
       "<style scoped>\n",
       "    .dataframe tbody tr th:only-of-type {\n",
       "        vertical-align: middle;\n",
       "    }\n",
       "\n",
       "    .dataframe tbody tr th {\n",
       "        vertical-align: top;\n",
       "    }\n",
       "\n",
       "    .dataframe thead th {\n",
       "        text-align: right;\n",
       "    }\n",
       "</style>\n",
       "<table border=\"1\" class=\"dataframe\">\n",
       "  <thead>\n",
       "    <tr style=\"text-align: right;\">\n",
       "      <th></th>\n",
       "      <th>N</th>\n",
       "      <th>P</th>\n",
       "      <th>K</th>\n",
       "      <th>pH</th>\n",
       "      <th>EC</th>\n",
       "      <th>OC</th>\n",
       "      <th>S</th>\n",
       "      <th>Zn</th>\n",
       "      <th>Fe</th>\n",
       "      <th>Cu</th>\n",
       "      <th>Mn</th>\n",
       "      <th>B</th>\n",
       "    </tr>\n",
       "  </thead>\n",
       "  <tbody>\n",
       "    <tr>\n",
       "      <th>0</th>\n",
       "      <td>138</td>\n",
       "      <td>8.6</td>\n",
       "      <td>560</td>\n",
       "      <td>7.46</td>\n",
       "      <td>0.62</td>\n",
       "      <td>0.70</td>\n",
       "      <td>5.90</td>\n",
       "      <td>0.24</td>\n",
       "      <td>0.31</td>\n",
       "      <td>0.77</td>\n",
       "      <td>8.71</td>\n",
       "      <td>0.11</td>\n",
       "    </tr>\n",
       "    <tr>\n",
       "      <th>1</th>\n",
       "      <td>213</td>\n",
       "      <td>7.5</td>\n",
       "      <td>338</td>\n",
       "      <td>7.62</td>\n",
       "      <td>0.75</td>\n",
       "      <td>1.06</td>\n",
       "      <td>25.40</td>\n",
       "      <td>0.30</td>\n",
       "      <td>0.86</td>\n",
       "      <td>1.54</td>\n",
       "      <td>2.89</td>\n",
       "      <td>2.29</td>\n",
       "    </tr>\n",
       "    <tr>\n",
       "      <th>2</th>\n",
       "      <td>163</td>\n",
       "      <td>9.6</td>\n",
       "      <td>718</td>\n",
       "      <td>7.59</td>\n",
       "      <td>0.51</td>\n",
       "      <td>1.11</td>\n",
       "      <td>14.30</td>\n",
       "      <td>0.30</td>\n",
       "      <td>0.86</td>\n",
       "      <td>1.57</td>\n",
       "      <td>2.70</td>\n",
       "      <td>2.03</td>\n",
       "    </tr>\n",
       "    <tr>\n",
       "      <th>3</th>\n",
       "      <td>157</td>\n",
       "      <td>6.8</td>\n",
       "      <td>475</td>\n",
       "      <td>7.64</td>\n",
       "      <td>0.58</td>\n",
       "      <td>0.94</td>\n",
       "      <td>26.00</td>\n",
       "      <td>0.34</td>\n",
       "      <td>0.54</td>\n",
       "      <td>1.53</td>\n",
       "      <td>2.65</td>\n",
       "      <td>1.82</td>\n",
       "    </tr>\n",
       "    <tr>\n",
       "      <th>4</th>\n",
       "      <td>270</td>\n",
       "      <td>9.9</td>\n",
       "      <td>444</td>\n",
       "      <td>7.63</td>\n",
       "      <td>0.40</td>\n",
       "      <td>0.86</td>\n",
       "      <td>11.80</td>\n",
       "      <td>0.25</td>\n",
       "      <td>0.76</td>\n",
       "      <td>1.69</td>\n",
       "      <td>2.43</td>\n",
       "      <td>2.26</td>\n",
       "    </tr>\n",
       "    <tr>\n",
       "      <th>...</th>\n",
       "      <td>...</td>\n",
       "      <td>...</td>\n",
       "      <td>...</td>\n",
       "      <td>...</td>\n",
       "      <td>...</td>\n",
       "      <td>...</td>\n",
       "      <td>...</td>\n",
       "      <td>...</td>\n",
       "      <td>...</td>\n",
       "      <td>...</td>\n",
       "      <td>...</td>\n",
       "      <td>...</td>\n",
       "    </tr>\n",
       "    <tr>\n",
       "      <th>875</th>\n",
       "      <td>351</td>\n",
       "      <td>10.7</td>\n",
       "      <td>623</td>\n",
       "      <td>7.96</td>\n",
       "      <td>0.51</td>\n",
       "      <td>0.29</td>\n",
       "      <td>7.24</td>\n",
       "      <td>0.36</td>\n",
       "      <td>4.69</td>\n",
       "      <td>0.69</td>\n",
       "      <td>11.03</td>\n",
       "      <td>0.69</td>\n",
       "    </tr>\n",
       "    <tr>\n",
       "      <th>876</th>\n",
       "      <td>264</td>\n",
       "      <td>9.0</td>\n",
       "      <td>486</td>\n",
       "      <td>7.24</td>\n",
       "      <td>0.47</td>\n",
       "      <td>0.10</td>\n",
       "      <td>3.92</td>\n",
       "      <td>0.35</td>\n",
       "      <td>8.26</td>\n",
       "      <td>0.45</td>\n",
       "      <td>7.98</td>\n",
       "      <td>0.40</td>\n",
       "    </tr>\n",
       "    <tr>\n",
       "      <th>877</th>\n",
       "      <td>276</td>\n",
       "      <td>9.2</td>\n",
       "      <td>370</td>\n",
       "      <td>7.62</td>\n",
       "      <td>0.62</td>\n",
       "      <td>0.49</td>\n",
       "      <td>6.64</td>\n",
       "      <td>0.42</td>\n",
       "      <td>3.57</td>\n",
       "      <td>0.63</td>\n",
       "      <td>6.48</td>\n",
       "      <td>0.32</td>\n",
       "    </tr>\n",
       "    <tr>\n",
       "      <th>878</th>\n",
       "      <td>320</td>\n",
       "      <td>13.8</td>\n",
       "      <td>391</td>\n",
       "      <td>7.38</td>\n",
       "      <td>0.65</td>\n",
       "      <td>1.07</td>\n",
       "      <td>5.43</td>\n",
       "      <td>0.58</td>\n",
       "      <td>4.58</td>\n",
       "      <td>1.02</td>\n",
       "      <td>13.25</td>\n",
       "      <td>0.53</td>\n",
       "    </tr>\n",
       "    <tr>\n",
       "      <th>879</th>\n",
       "      <td>264</td>\n",
       "      <td>10.3</td>\n",
       "      <td>475</td>\n",
       "      <td>7.49</td>\n",
       "      <td>0.74</td>\n",
       "      <td>0.88</td>\n",
       "      <td>10.56</td>\n",
       "      <td>0.45</td>\n",
       "      <td>7.36</td>\n",
       "      <td>1.87</td>\n",
       "      <td>10.63</td>\n",
       "      <td>0.63</td>\n",
       "    </tr>\n",
       "  </tbody>\n",
       "</table>\n",
       "<p>880 rows × 12 columns</p>\n",
       "</div>"
      ],
      "text/plain": [
       "       N     P    K    pH    EC    OC      S    Zn    Fe    Cu     Mn     B\n",
       "0    138   8.6  560  7.46  0.62  0.70   5.90  0.24  0.31  0.77   8.71  0.11\n",
       "1    213   7.5  338  7.62  0.75  1.06  25.40  0.30  0.86  1.54   2.89  2.29\n",
       "2    163   9.6  718  7.59  0.51  1.11  14.30  0.30  0.86  1.57   2.70  2.03\n",
       "3    157   6.8  475  7.64  0.58  0.94  26.00  0.34  0.54  1.53   2.65  1.82\n",
       "4    270   9.9  444  7.63  0.40  0.86  11.80  0.25  0.76  1.69   2.43  2.26\n",
       "..   ...   ...  ...   ...   ...   ...    ...   ...   ...   ...    ...   ...\n",
       "875  351  10.7  623  7.96  0.51  0.29   7.24  0.36  4.69  0.69  11.03  0.69\n",
       "876  264   9.0  486  7.24  0.47  0.10   3.92  0.35  8.26  0.45   7.98  0.40\n",
       "877  276   9.2  370  7.62  0.62  0.49   6.64  0.42  3.57  0.63   6.48  0.32\n",
       "878  320  13.8  391  7.38  0.65  1.07   5.43  0.58  4.58  1.02  13.25  0.53\n",
       "879  264  10.3  475  7.49  0.74  0.88  10.56  0.45  7.36  1.87  10.63  0.63\n",
       "\n",
       "[880 rows x 12 columns]"
      ]
     },
     "execution_count": 297,
     "metadata": {},
     "output_type": "execute_result"
    }
   ],
   "source": [
    "feature = data.drop('Output', axis = 1)\n",
    "feature"
   ]
  },
  {
   "cell_type": "code",
   "execution_count": 298,
   "id": "32e7d92c",
   "metadata": {},
   "outputs": [
    {
     "data": {
      "text/plain": [
       "array([[<AxesSubplot:title={'center':'N'}>,\n",
       "        <AxesSubplot:title={'center':'P'}>,\n",
       "        <AxesSubplot:title={'center':'K'}>],\n",
       "       [<AxesSubplot:title={'center':'pH'}>,\n",
       "        <AxesSubplot:title={'center':'EC'}>,\n",
       "        <AxesSubplot:title={'center':'OC'}>],\n",
       "       [<AxesSubplot:title={'center':'S'}>,\n",
       "        <AxesSubplot:title={'center':'Zn'}>,\n",
       "        <AxesSubplot:title={'center':'Fe'}>],\n",
       "       [<AxesSubplot:title={'center':'Cu'}>,\n",
       "        <AxesSubplot:title={'center':'Mn'}>,\n",
       "        <AxesSubplot:title={'center':'B'}>]], dtype=object)"
      ]
     },
     "execution_count": 298,
     "metadata": {},
     "output_type": "execute_result"
    },
    {
     "data": {
      "image/png": "[encoded data removed]",
      "text/plain": [
       "<Figure size 1224x1224 with 12 Axes>"
      ]
     },
     "metadata": {
      "needs_background": "light"
     },
     "output_type": "display_data"
    }
   ],
   "source": [
    "feature.hist(figsize=(17,17),bins=100)"
   ]
  },
  {
   "cell_type": "markdown",
   "id": "1e8c5fd7",
   "metadata": {},
   "source": [
    "we can see the histograms are right skewed and then also we go for scaling the feature but if we see closely we can see outliers and if we remove those outliers the se histogram will definitely becomes not skewed"
   ]
  },
  {
   "cell_type": "markdown",
   "id": "b5776fdc",
   "metadata": {},
   "source": [
    "Scaling the features"
   ]
  },
  {
   "cell_type": "code",
   "execution_count": 299,
   "id": "9b279ea1",
   "metadata": {},
   "outputs": [
    {
     "name": "stdout",
     "output_type": "stream",
     "text": [
      "<class 'pandas.core.frame.DataFrame'>\n",
      "RangeIndex: 880 entries, 0 to 879\n",
      "Data columns (total 12 columns):\n",
      " #   Column  Non-Null Count  Dtype  \n",
      "---  ------  --------------  -----  \n",
      " 0   N       880 non-null    int64  \n",
      " 1   P       880 non-null    float64\n",
      " 2   K       880 non-null    int64  \n",
      " 3   pH      880 non-null    float64\n",
      " 4   EC      880 non-null    float64\n",
      " 5   OC      880 non-null    float64\n",
      " 6   S       880 non-null    float64\n",
      " 7   Zn      880 non-null    float64\n",
      " 8   Fe      880 non-null    float64\n",
      " 9   Cu      880 non-null    float64\n",
      " 10  Mn      880 non-null    float64\n",
      " 11  B       880 non-null    float64\n",
      "dtypes: float64(10), int64(2)\n",
      "memory usage: 82.6 KB\n"
     ]
    }
   ],
   "source": [
    "feature.info()"
   ]
  },
  {
   "cell_type": "markdown",
   "id": "d02fc276",
   "metadata": {},
   "source": [
    "We use Log Transform to convert skewed distibution to a normal distribution"
   ]
  },
  {
   "cell_type": "code",
   "execution_count": 300,
   "id": "b2a36203",
   "metadata": {},
   "outputs": [],
   "source": [
    "import numpy as np"
   ]
  },
  {
   "cell_type": "code",
   "execution_count": 301,
   "id": "ef138591",
   "metadata": {},
   "outputs": [],
   "source": [
    "sFeature = feature.apply(lambda x: np.log10(x))"
   ]
  },
  {
   "cell_type": "code",
   "execution_count": 302,
   "id": "1ad59127",
   "metadata": {},
   "outputs": [
    {
     "name": "stdout",
     "output_type": "stream",
     "text": [
      "<class 'pandas.core.frame.DataFrame'>\n",
      "RangeIndex: 880 entries, 0 to 879\n",
      "Data columns (total 12 columns):\n",
      " #   Column  Non-Null Count  Dtype  \n",
      "---  ------  --------------  -----  \n",
      " 0   N       880 non-null    float64\n",
      " 1   P       880 non-null    float64\n",
      " 2   K       880 non-null    float64\n",
      " 3   pH      880 non-null    float64\n",
      " 4   EC      880 non-null    float64\n",
      " 5   OC      880 non-null    float64\n",
      " 6   S       880 non-null    float64\n",
      " 7   Zn      880 non-null    float64\n",
      " 8   Fe      880 non-null    float64\n",
      " 9   Cu      880 non-null    float64\n",
      " 10  Mn      880 non-null    float64\n",
      " 11  B       880 non-null    float64\n",
      "dtypes: float64(12)\n",
      "memory usage: 82.6 KB\n"
     ]
    }
   ],
   "source": [
    "sFeature.info()"
   ]
  },
  {
   "cell_type": "code",
   "execution_count": 303,
   "id": "723484a3",
   "metadata": {
    "scrolled": false
   },
   "outputs": [
    {
     "data": {
      "text/plain": [
       "array([[<AxesSubplot:title={'center':'N'}>,\n",
       "        <AxesSubplot:title={'center':'P'}>,\n",
       "        <AxesSubplot:title={'center':'K'}>],\n",
       "       [<AxesSubplot:title={'center':'pH'}>,\n",
       "        <AxesSubplot:title={'center':'EC'}>,\n",
       "        <AxesSubplot:title={'center':'OC'}>],\n",
       "       [<AxesSubplot:title={'center':'S'}>,\n",
       "        <AxesSubplot:title={'center':'Zn'}>,\n",
       "        <AxesSubplot:title={'center':'Fe'}>],\n",
       "       [<AxesSubplot:title={'center':'Cu'}>,\n",
       "        <AxesSubplot:title={'center':'Mn'}>,\n",
       "        <AxesSubplot:title={'center':'B'}>]], dtype=object)"
      ]
     },
     "execution_count": 303,
     "metadata": {},
     "output_type": "execute_result"
    },
    {
     "data": {
      "image/png": "[encoded data removed]",
      "text/plain": [
       "<Figure size 1224x1224 with 12 Axes>"
      ]
     },
     "metadata": {
      "needs_background": "light"
     },
     "output_type": "display_data"
    }
   ],
   "source": [
    "sFeature.hist(bins = 100, figsize= (17,17))"
   ]
  },
  {
   "cell_type": "markdown",
   "id": "5d8c556f",
   "metadata": {},
   "source": [
    "on analyzing the graphs, we see there is still skewness and that is an alert that there is problem, which is the outliers and so in the next step we remove the outliers"
   ]
  },
  {
   "cell_type": "markdown",
   "id": "330f08e0",
   "metadata": {},
   "source": [
    "there are lots of outliers and we need to remove those outliers for a better normalized data"
   ]
  },
  {
   "cell_type": "code",
   "execution_count": 304,
   "id": "3136151d",
   "metadata": {},
   "outputs": [],
   "source": [
    "\n",
    "\n",
    "# Assuming 'data' is your DataFrame\n",
    "# Loop through each column in the DataFrame\n",
    "for column in data.columns:\n",
    "    # Calculate the 25th and 75th percentiles\n",
    "    Q1 = data[column].quantile(0.25)\n",
    "    Q3 = data[column].quantile(0.75)\n",
    "\n",
    "    # Calculate the IQR (Interquartile Range)\n",
    "    IQR = Q3 - Q1\n",
    "\n",
    "    # Define the upper and lower bounds for outliers\n",
    "    lower_bound = Q1 -  IQR\n",
    "    upper_bound = Q3 +  IQR\n",
    "\n",
    "    # Remove outliers by keeping only values within the bounds\n",
    "    data = data[(data[column] >= lower_bound) & (data[column] <= upper_bound)]\n",
    "\n",
    "# The DataFrame 'data' now contains rows without outliers in any column\n"
   ]
  },
  {
   "cell_type": "code",
   "execution_count": 305,
   "id": "3c03c267",
   "metadata": {},
   "outputs": [
    {
     "data": {
      "text/plain": [
       "(437, 13)"
      ]
     },
     "execution_count": 305,
     "metadata": {},
     "output_type": "execute_result"
    }
   ],
   "source": [
    "data.shape"
   ]
  },
  {
   "cell_type": "code",
   "execution_count": 306,
   "id": "83ecc6ed",
   "metadata": {
    "scrolled": true
   },
   "outputs": [],
   "source": [
    "soil = data\n",
    "\n",
    "soil.reset_index(inplace=True)"
   ]
  },
  {
   "cell_type": "code",
   "execution_count": 307,
   "id": "a201f404",
   "metadata": {},
   "outputs": [],
   "source": [
    "soil.drop(['index'],axis =1, inplace= True)"
   ]
  },
  {
   "cell_type": "code",
   "execution_count": 308,
   "id": "805abc7e",
   "metadata": {},
   "outputs": [
    {
     "data": {
      "text/html": [
       "<div>\n",
       "<style scoped>\n",
       "    .dataframe tbody tr th:only-of-type {\n",
       "        vertical-align: middle;\n",
       "    }\n",
       "\n",
       "    .dataframe tbody tr th {\n",
       "        vertical-align: top;\n",
       "    }\n",
       "\n",
       "    .dataframe thead th {\n",
       "        text-align: right;\n",
       "    }\n",
       "</style>\n",
       "<table border=\"1\" class=\"dataframe\">\n",
       "  <thead>\n",
       "    <tr style=\"text-align: right;\">\n",
       "      <th></th>\n",
       "      <th>N</th>\n",
       "      <th>P</th>\n",
       "      <th>K</th>\n",
       "      <th>pH</th>\n",
       "      <th>EC</th>\n",
       "      <th>OC</th>\n",
       "      <th>S</th>\n",
       "      <th>Zn</th>\n",
       "      <th>Fe</th>\n",
       "      <th>Cu</th>\n",
       "      <th>Mn</th>\n",
       "      <th>B</th>\n",
       "      <th>Output</th>\n",
       "    </tr>\n",
       "  </thead>\n",
       "  <tbody>\n",
       "    <tr>\n",
       "      <th>0</th>\n",
       "      <td>138</td>\n",
       "      <td>8.6</td>\n",
       "      <td>560</td>\n",
       "      <td>7.46</td>\n",
       "      <td>0.62</td>\n",
       "      <td>0.70</td>\n",
       "      <td>5.90</td>\n",
       "      <td>0.24</td>\n",
       "      <td>0.31</td>\n",
       "      <td>0.77</td>\n",
       "      <td>8.71</td>\n",
       "      <td>0.11</td>\n",
       "      <td>0</td>\n",
       "    </tr>\n",
       "    <tr>\n",
       "      <th>1</th>\n",
       "      <td>245</td>\n",
       "      <td>8.1</td>\n",
       "      <td>560</td>\n",
       "      <td>7.31</td>\n",
       "      <td>0.63</td>\n",
       "      <td>0.78</td>\n",
       "      <td>11.60</td>\n",
       "      <td>0.29</td>\n",
       "      <td>0.43</td>\n",
       "      <td>0.57</td>\n",
       "      <td>7.73</td>\n",
       "      <td>0.74</td>\n",
       "      <td>0</td>\n",
       "    </tr>\n",
       "    <tr>\n",
       "      <th>2</th>\n",
       "      <td>245</td>\n",
       "      <td>8.3</td>\n",
       "      <td>560</td>\n",
       "      <td>7.58</td>\n",
       "      <td>0.74</td>\n",
       "      <td>0.83</td>\n",
       "      <td>8.20</td>\n",
       "      <td>0.32</td>\n",
       "      <td>0.96</td>\n",
       "      <td>1.57</td>\n",
       "      <td>2.67</td>\n",
       "      <td>0.59</td>\n",
       "      <td>0</td>\n",
       "    </tr>\n",
       "    <tr>\n",
       "      <th>3</th>\n",
       "      <td>107</td>\n",
       "      <td>8.3</td>\n",
       "      <td>612</td>\n",
       "      <td>7.43</td>\n",
       "      <td>0.43</td>\n",
       "      <td>0.75</td>\n",
       "      <td>7.20</td>\n",
       "      <td>0.18</td>\n",
       "      <td>0.95</td>\n",
       "      <td>0.89</td>\n",
       "      <td>2.16</td>\n",
       "      <td>0.74</td>\n",
       "      <td>0</td>\n",
       "    </tr>\n",
       "    <tr>\n",
       "      <th>4</th>\n",
       "      <td>201</td>\n",
       "      <td>5.3</td>\n",
       "      <td>507</td>\n",
       "      <td>7.60</td>\n",
       "      <td>0.53</td>\n",
       "      <td>0.39</td>\n",
       "      <td>10.86</td>\n",
       "      <td>0.32</td>\n",
       "      <td>9.32</td>\n",
       "      <td>0.69</td>\n",
       "      <td>9.03</td>\n",
       "      <td>0.69</td>\n",
       "      <td>0</td>\n",
       "    </tr>\n",
       "    <tr>\n",
       "      <th>...</th>\n",
       "      <td>...</td>\n",
       "      <td>...</td>\n",
       "      <td>...</td>\n",
       "      <td>...</td>\n",
       "      <td>...</td>\n",
       "      <td>...</td>\n",
       "      <td>...</td>\n",
       "      <td>...</td>\n",
       "      <td>...</td>\n",
       "      <td>...</td>\n",
       "      <td>...</td>\n",
       "      <td>...</td>\n",
       "      <td>...</td>\n",
       "    </tr>\n",
       "    <tr>\n",
       "      <th>432</th>\n",
       "      <td>339</td>\n",
       "      <td>8.3</td>\n",
       "      <td>380</td>\n",
       "      <td>7.67</td>\n",
       "      <td>0.32</td>\n",
       "      <td>0.88</td>\n",
       "      <td>5.13</td>\n",
       "      <td>0.33</td>\n",
       "      <td>7.96</td>\n",
       "      <td>1.65</td>\n",
       "      <td>12.47</td>\n",
       "      <td>0.44</td>\n",
       "      <td>1</td>\n",
       "    </tr>\n",
       "    <tr>\n",
       "      <th>433</th>\n",
       "      <td>264</td>\n",
       "      <td>9.0</td>\n",
       "      <td>486</td>\n",
       "      <td>7.24</td>\n",
       "      <td>0.47</td>\n",
       "      <td>0.10</td>\n",
       "      <td>3.92</td>\n",
       "      <td>0.35</td>\n",
       "      <td>8.26</td>\n",
       "      <td>0.45</td>\n",
       "      <td>7.98</td>\n",
       "      <td>0.40</td>\n",
       "      <td>1</td>\n",
       "    </tr>\n",
       "    <tr>\n",
       "      <th>434</th>\n",
       "      <td>276</td>\n",
       "      <td>9.2</td>\n",
       "      <td>370</td>\n",
       "      <td>7.62</td>\n",
       "      <td>0.62</td>\n",
       "      <td>0.49</td>\n",
       "      <td>6.64</td>\n",
       "      <td>0.42</td>\n",
       "      <td>3.57</td>\n",
       "      <td>0.63</td>\n",
       "      <td>6.48</td>\n",
       "      <td>0.32</td>\n",
       "      <td>1</td>\n",
       "    </tr>\n",
       "    <tr>\n",
       "      <th>435</th>\n",
       "      <td>320</td>\n",
       "      <td>13.8</td>\n",
       "      <td>391</td>\n",
       "      <td>7.38</td>\n",
       "      <td>0.65</td>\n",
       "      <td>1.07</td>\n",
       "      <td>5.43</td>\n",
       "      <td>0.58</td>\n",
       "      <td>4.58</td>\n",
       "      <td>1.02</td>\n",
       "      <td>13.25</td>\n",
       "      <td>0.53</td>\n",
       "      <td>2</td>\n",
       "    </tr>\n",
       "    <tr>\n",
       "      <th>436</th>\n",
       "      <td>264</td>\n",
       "      <td>10.3</td>\n",
       "      <td>475</td>\n",
       "      <td>7.49</td>\n",
       "      <td>0.74</td>\n",
       "      <td>0.88</td>\n",
       "      <td>10.56</td>\n",
       "      <td>0.45</td>\n",
       "      <td>7.36</td>\n",
       "      <td>1.87</td>\n",
       "      <td>10.63</td>\n",
       "      <td>0.63</td>\n",
       "      <td>0</td>\n",
       "    </tr>\n",
       "  </tbody>\n",
       "</table>\n",
       "<p>437 rows × 13 columns</p>\n",
       "</div>"
      ],
      "text/plain": [
       "       N     P    K    pH    EC    OC      S    Zn    Fe    Cu     Mn     B  \\\n",
       "0    138   8.6  560  7.46  0.62  0.70   5.90  0.24  0.31  0.77   8.71  0.11   \n",
       "1    245   8.1  560  7.31  0.63  0.78  11.60  0.29  0.43  0.57   7.73  0.74   \n",
       "2    245   8.3  560  7.58  0.74  0.83   8.20  0.32  0.96  1.57   2.67  0.59   \n",
       "3    107   8.3  612  7.43  0.43  0.75   7.20  0.18  0.95  0.89   2.16  0.74   \n",
       "4    201   5.3  507  7.60  0.53  0.39  10.86  0.32  9.32  0.69   9.03  0.69   \n",
       "..   ...   ...  ...   ...   ...   ...    ...   ...   ...   ...    ...   ...   \n",
       "432  339   8.3  380  7.67  0.32  0.88   5.13  0.33  7.96  1.65  12.47  0.44   \n",
       "433  264   9.0  486  7.24  0.47  0.10   3.92  0.35  8.26  0.45   7.98  0.40   \n",
       "434  276   9.2  370  7.62  0.62  0.49   6.64  0.42  3.57  0.63   6.48  0.32   \n",
       "435  320  13.8  391  7.38  0.65  1.07   5.43  0.58  4.58  1.02  13.25  0.53   \n",
       "436  264  10.3  475  7.49  0.74  0.88  10.56  0.45  7.36  1.87  10.63  0.63   \n",
       "\n",
       "     Output  \n",
       "0         0  \n",
       "1         0  \n",
       "2         0  \n",
       "3         0  \n",
       "4         0  \n",
       "..      ...  \n",
       "432       1  \n",
       "433       1  \n",
       "434       1  \n",
       "435       2  \n",
       "436       0  \n",
       "\n",
       "[437 rows x 13 columns]"
      ]
     },
     "execution_count": 308,
     "metadata": {},
     "output_type": "execute_result"
    }
   ],
   "source": [
    "soil"
   ]
  },
  {
   "cell_type": "markdown",
   "id": "d4b35edc",
   "metadata": {},
   "source": [
    "soil is the data with outliers removed"
   ]
  },
  {
   "cell_type": "code",
   "execution_count": 309,
   "id": "42d4f80f",
   "metadata": {},
   "outputs": [
    {
     "data": {
      "text/html": [
       "<div>\n",
       "<style scoped>\n",
       "    .dataframe tbody tr th:only-of-type {\n",
       "        vertical-align: middle;\n",
       "    }\n",
       "\n",
       "    .dataframe tbody tr th {\n",
       "        vertical-align: top;\n",
       "    }\n",
       "\n",
       "    .dataframe thead th {\n",
       "        text-align: right;\n",
       "    }\n",
       "</style>\n",
       "<table border=\"1\" class=\"dataframe\">\n",
       "  <thead>\n",
       "    <tr style=\"text-align: right;\">\n",
       "      <th></th>\n",
       "      <th>N</th>\n",
       "      <th>P</th>\n",
       "      <th>K</th>\n",
       "      <th>pH</th>\n",
       "      <th>EC</th>\n",
       "      <th>OC</th>\n",
       "      <th>S</th>\n",
       "      <th>Zn</th>\n",
       "      <th>Fe</th>\n",
       "      <th>Cu</th>\n",
       "      <th>Mn</th>\n",
       "      <th>B</th>\n",
       "      <th>Output</th>\n",
       "    </tr>\n",
       "  </thead>\n",
       "  <tbody>\n",
       "    <tr>\n",
       "      <th>count</th>\n",
       "      <td>437.000000</td>\n",
       "      <td>437.000000</td>\n",
       "      <td>437.000000</td>\n",
       "      <td>437.000000</td>\n",
       "      <td>437.000000</td>\n",
       "      <td>437.000000</td>\n",
       "      <td>437.000000</td>\n",
       "      <td>437.000000</td>\n",
       "      <td>437.000000</td>\n",
       "      <td>437.000000</td>\n",
       "      <td>437.000000</td>\n",
       "      <td>437.000000</td>\n",
       "      <td>437.000000</td>\n",
       "    </tr>\n",
       "    <tr>\n",
       "      <th>mean</th>\n",
       "      <td>253.908467</td>\n",
       "      <td>8.164760</td>\n",
       "      <td>473.897025</td>\n",
       "      <td>7.498810</td>\n",
       "      <td>0.544783</td>\n",
       "      <td>0.554622</td>\n",
       "      <td>6.404897</td>\n",
       "      <td>0.362906</td>\n",
       "      <td>4.480435</td>\n",
       "      <td>0.919176</td>\n",
       "      <td>8.975240</td>\n",
       "      <td>0.356522</td>\n",
       "      <td>0.521739</td>\n",
       "    </tr>\n",
       "    <tr>\n",
       "      <th>std</th>\n",
       "      <td>63.595740</td>\n",
       "      <td>2.313858</td>\n",
       "      <td>102.506392</td>\n",
       "      <td>0.213046</td>\n",
       "      <td>0.136613</td>\n",
       "      <td>0.300752</td>\n",
       "      <td>2.339976</td>\n",
       "      <td>0.105618</td>\n",
       "      <td>2.321101</td>\n",
       "      <td>0.387115</td>\n",
       "      <td>2.884741</td>\n",
       "      <td>0.183205</td>\n",
       "      <td>0.552400</td>\n",
       "    </tr>\n",
       "    <tr>\n",
       "      <th>min</th>\n",
       "      <td>100.000000</td>\n",
       "      <td>3.900000</td>\n",
       "      <td>264.000000</td>\n",
       "      <td>7.050000</td>\n",
       "      <td>0.240000</td>\n",
       "      <td>0.100000</td>\n",
       "      <td>1.700000</td>\n",
       "      <td>0.130000</td>\n",
       "      <td>0.210000</td>\n",
       "      <td>0.090000</td>\n",
       "      <td>2.110000</td>\n",
       "      <td>0.060000</td>\n",
       "      <td>0.000000</td>\n",
       "    </tr>\n",
       "    <tr>\n",
       "      <th>25%</th>\n",
       "      <td>201.000000</td>\n",
       "      <td>6.800000</td>\n",
       "      <td>391.000000</td>\n",
       "      <td>7.350000</td>\n",
       "      <td>0.430000</td>\n",
       "      <td>0.290000</td>\n",
       "      <td>4.520000</td>\n",
       "      <td>0.270000</td>\n",
       "      <td>2.680000</td>\n",
       "      <td>0.640000</td>\n",
       "      <td>7.350000</td>\n",
       "      <td>0.210000</td>\n",
       "      <td>0.000000</td>\n",
       "    </tr>\n",
       "    <tr>\n",
       "      <th>50%</th>\n",
       "      <td>257.000000</td>\n",
       "      <td>7.700000</td>\n",
       "      <td>465.000000</td>\n",
       "      <td>7.500000</td>\n",
       "      <td>0.560000</td>\n",
       "      <td>0.510000</td>\n",
       "      <td>6.000000</td>\n",
       "      <td>0.350000</td>\n",
       "      <td>3.950000</td>\n",
       "      <td>0.870000</td>\n",
       "      <td>8.600000</td>\n",
       "      <td>0.340000</td>\n",
       "      <td>0.000000</td>\n",
       "    </tr>\n",
       "    <tr>\n",
       "      <th>75%</th>\n",
       "      <td>307.000000</td>\n",
       "      <td>9.000000</td>\n",
       "      <td>549.000000</td>\n",
       "      <td>7.620000</td>\n",
       "      <td>0.640000</td>\n",
       "      <td>0.780000</td>\n",
       "      <td>8.140000</td>\n",
       "      <td>0.420000</td>\n",
       "      <td>6.320000</td>\n",
       "      <td>1.230000</td>\n",
       "      <td>11.250000</td>\n",
       "      <td>0.480000</td>\n",
       "      <td>1.000000</td>\n",
       "    </tr>\n",
       "    <tr>\n",
       "      <th>max</th>\n",
       "      <td>377.000000</td>\n",
       "      <td>14.500000</td>\n",
       "      <td>718.000000</td>\n",
       "      <td>7.950000</td>\n",
       "      <td>0.850000</td>\n",
       "      <td>1.170000</td>\n",
       "      <td>12.700000</td>\n",
       "      <td>0.620000</td>\n",
       "      <td>9.670000</td>\n",
       "      <td>1.870000</td>\n",
       "      <td>15.960000</td>\n",
       "      <td>0.800000</td>\n",
       "      <td>2.000000</td>\n",
       "    </tr>\n",
       "  </tbody>\n",
       "</table>\n",
       "</div>"
      ],
      "text/plain": [
       "                N           P           K          pH          EC          OC  \\\n",
       "count  437.000000  437.000000  437.000000  437.000000  437.000000  437.000000   \n",
       "mean   253.908467    8.164760  473.897025    7.498810    0.544783    0.554622   \n",
       "std     63.595740    2.313858  102.506392    0.213046    0.136613    0.300752   \n",
       "min    100.000000    3.900000  264.000000    7.050000    0.240000    0.100000   \n",
       "25%    201.000000    6.800000  391.000000    7.350000    0.430000    0.290000   \n",
       "50%    257.000000    7.700000  465.000000    7.500000    0.560000    0.510000   \n",
       "75%    307.000000    9.000000  549.000000    7.620000    0.640000    0.780000   \n",
       "max    377.000000   14.500000  718.000000    7.950000    0.850000    1.170000   \n",
       "\n",
       "                S          Zn          Fe          Cu          Mn           B  \\\n",
       "count  437.000000  437.000000  437.000000  437.000000  437.000000  437.000000   \n",
       "mean     6.404897    0.362906    4.480435    0.919176    8.975240    0.356522   \n",
       "std      2.339976    0.105618    2.321101    0.387115    2.884741    0.183205   \n",
       "min      1.700000    0.130000    0.210000    0.090000    2.110000    0.060000   \n",
       "25%      4.520000    0.270000    2.680000    0.640000    7.350000    0.210000   \n",
       "50%      6.000000    0.350000    3.950000    0.870000    8.600000    0.340000   \n",
       "75%      8.140000    0.420000    6.320000    1.230000   11.250000    0.480000   \n",
       "max     12.700000    0.620000    9.670000    1.870000   15.960000    0.800000   \n",
       "\n",
       "           Output  \n",
       "count  437.000000  \n",
       "mean     0.521739  \n",
       "std      0.552400  \n",
       "min      0.000000  \n",
       "25%      0.000000  \n",
       "50%      0.000000  \n",
       "75%      1.000000  \n",
       "max      2.000000  "
      ]
     },
     "execution_count": 309,
     "metadata": {},
     "output_type": "execute_result"
    }
   ],
   "source": [
    "soil.describe()"
   ]
  },
  {
   "cell_type": "code",
   "execution_count": 310,
   "id": "b81b3c22",
   "metadata": {},
   "outputs": [
    {
     "data": {
      "text/plain": [
       "<AxesSubplot:>"
      ]
     },
     "execution_count": 310,
     "metadata": {},
     "output_type": "execute_result"
    },
    {
     "data": {
      "image/png": "[encoded data removed]",
      "text/plain": [
       "<Figure size 1224x1224 with 1 Axes>"
      ]
     },
     "metadata": {
      "needs_background": "light"
     },
     "output_type": "display_data"
    }
   ],
   "source": [
    "soil.boxplot(figsize=(17,17))"
   ]
  },
  {
   "cell_type": "code",
   "execution_count": 311,
   "id": "794f1dd6",
   "metadata": {},
   "outputs": [
    {
     "data": {
      "text/html": [
       "<div>\n",
       "<style scoped>\n",
       "    .dataframe tbody tr th:only-of-type {\n",
       "        vertical-align: middle;\n",
       "    }\n",
       "\n",
       "    .dataframe tbody tr th {\n",
       "        vertical-align: top;\n",
       "    }\n",
       "\n",
       "    .dataframe thead th {\n",
       "        text-align: right;\n",
       "    }\n",
       "</style>\n",
       "<table border=\"1\" class=\"dataframe\">\n",
       "  <thead>\n",
       "    <tr style=\"text-align: right;\">\n",
       "      <th></th>\n",
       "      <th>N</th>\n",
       "      <th>P</th>\n",
       "      <th>K</th>\n",
       "      <th>pH</th>\n",
       "      <th>EC</th>\n",
       "      <th>OC</th>\n",
       "      <th>S</th>\n",
       "      <th>Zn</th>\n",
       "      <th>Fe</th>\n",
       "      <th>Cu</th>\n",
       "      <th>Mn</th>\n",
       "      <th>B</th>\n",
       "      <th>Output</th>\n",
       "    </tr>\n",
       "  </thead>\n",
       "  <tbody>\n",
       "    <tr>\n",
       "      <th>N</th>\n",
       "      <td>1.000000</td>\n",
       "      <td>0.373325</td>\n",
       "      <td>0.078492</td>\n",
       "      <td>0.116264</td>\n",
       "      <td>0.003855</td>\n",
       "      <td>0.045957</td>\n",
       "      <td>0.000611</td>\n",
       "      <td>-0.049893</td>\n",
       "      <td>0.003627</td>\n",
       "      <td>-0.017018</td>\n",
       "      <td>-0.045062</td>\n",
       "      <td>0.160741</td>\n",
       "      <td>0.805904</td>\n",
       "    </tr>\n",
       "    <tr>\n",
       "      <th>P</th>\n",
       "      <td>0.373325</td>\n",
       "      <td>1.000000</td>\n",
       "      <td>0.083371</td>\n",
       "      <td>0.026993</td>\n",
       "      <td>-0.012562</td>\n",
       "      <td>0.026222</td>\n",
       "      <td>0.019691</td>\n",
       "      <td>-0.013526</td>\n",
       "      <td>-0.010765</td>\n",
       "      <td>0.021784</td>\n",
       "      <td>0.061664</td>\n",
       "      <td>0.116004</td>\n",
       "      <td>0.498192</td>\n",
       "    </tr>\n",
       "    <tr>\n",
       "      <th>K</th>\n",
       "      <td>0.078492</td>\n",
       "      <td>0.083371</td>\n",
       "      <td>1.000000</td>\n",
       "      <td>-0.073127</td>\n",
       "      <td>-0.072611</td>\n",
       "      <td>-0.038337</td>\n",
       "      <td>-0.011863</td>\n",
       "      <td>0.142869</td>\n",
       "      <td>-0.029318</td>\n",
       "      <td>0.063273</td>\n",
       "      <td>0.029536</td>\n",
       "      <td>0.196715</td>\n",
       "      <td>0.006743</td>\n",
       "    </tr>\n",
       "    <tr>\n",
       "      <th>pH</th>\n",
       "      <td>0.116264</td>\n",
       "      <td>0.026993</td>\n",
       "      <td>-0.073127</td>\n",
       "      <td>1.000000</td>\n",
       "      <td>0.197908</td>\n",
       "      <td>-0.002398</td>\n",
       "      <td>0.040848</td>\n",
       "      <td>-0.026277</td>\n",
       "      <td>-0.005978</td>\n",
       "      <td>0.037209</td>\n",
       "      <td>-0.044644</td>\n",
       "      <td>-0.039924</td>\n",
       "      <td>0.124949</td>\n",
       "    </tr>\n",
       "    <tr>\n",
       "      <th>EC</th>\n",
       "      <td>0.003855</td>\n",
       "      <td>-0.012562</td>\n",
       "      <td>-0.072611</td>\n",
       "      <td>0.197908</td>\n",
       "      <td>1.000000</td>\n",
       "      <td>-0.042998</td>\n",
       "      <td>0.052920</td>\n",
       "      <td>0.009271</td>\n",
       "      <td>-0.060034</td>\n",
       "      <td>0.055327</td>\n",
       "      <td>-0.054534</td>\n",
       "      <td>-0.033836</td>\n",
       "      <td>-0.007307</td>\n",
       "    </tr>\n",
       "    <tr>\n",
       "      <th>OC</th>\n",
       "      <td>0.045957</td>\n",
       "      <td>0.026222</td>\n",
       "      <td>-0.038337</td>\n",
       "      <td>-0.002398</td>\n",
       "      <td>-0.042998</td>\n",
       "      <td>1.000000</td>\n",
       "      <td>0.061538</td>\n",
       "      <td>0.060091</td>\n",
       "      <td>0.036977</td>\n",
       "      <td>0.086303</td>\n",
       "      <td>0.039292</td>\n",
       "      <td>0.082263</td>\n",
       "      <td>0.061518</td>\n",
       "    </tr>\n",
       "    <tr>\n",
       "      <th>S</th>\n",
       "      <td>0.000611</td>\n",
       "      <td>0.019691</td>\n",
       "      <td>-0.011863</td>\n",
       "      <td>0.040848</td>\n",
       "      <td>0.052920</td>\n",
       "      <td>0.061538</td>\n",
       "      <td>1.000000</td>\n",
       "      <td>0.137062</td>\n",
       "      <td>0.163859</td>\n",
       "      <td>0.144667</td>\n",
       "      <td>0.116008</td>\n",
       "      <td>0.154550</td>\n",
       "      <td>0.012249</td>\n",
       "    </tr>\n",
       "    <tr>\n",
       "      <th>Zn</th>\n",
       "      <td>-0.049893</td>\n",
       "      <td>-0.013526</td>\n",
       "      <td>0.142869</td>\n",
       "      <td>-0.026277</td>\n",
       "      <td>0.009271</td>\n",
       "      <td>0.060091</td>\n",
       "      <td>0.137062</td>\n",
       "      <td>1.000000</td>\n",
       "      <td>0.270433</td>\n",
       "      <td>0.265744</td>\n",
       "      <td>0.124423</td>\n",
       "      <td>0.340027</td>\n",
       "      <td>-0.055139</td>\n",
       "    </tr>\n",
       "    <tr>\n",
       "      <th>Fe</th>\n",
       "      <td>0.003627</td>\n",
       "      <td>-0.010765</td>\n",
       "      <td>-0.029318</td>\n",
       "      <td>-0.005978</td>\n",
       "      <td>-0.060034</td>\n",
       "      <td>0.036977</td>\n",
       "      <td>0.163859</td>\n",
       "      <td>0.270433</td>\n",
       "      <td>1.000000</td>\n",
       "      <td>0.259854</td>\n",
       "      <td>0.207416</td>\n",
       "      <td>0.202724</td>\n",
       "      <td>0.017049</td>\n",
       "    </tr>\n",
       "    <tr>\n",
       "      <th>Cu</th>\n",
       "      <td>-0.017018</td>\n",
       "      <td>0.021784</td>\n",
       "      <td>0.063273</td>\n",
       "      <td>0.037209</td>\n",
       "      <td>0.055327</td>\n",
       "      <td>0.086303</td>\n",
       "      <td>0.144667</td>\n",
       "      <td>0.265744</td>\n",
       "      <td>0.259854</td>\n",
       "      <td>1.000000</td>\n",
       "      <td>0.177721</td>\n",
       "      <td>0.150669</td>\n",
       "      <td>-0.020509</td>\n",
       "    </tr>\n",
       "    <tr>\n",
       "      <th>Mn</th>\n",
       "      <td>-0.045062</td>\n",
       "      <td>0.061664</td>\n",
       "      <td>0.029536</td>\n",
       "      <td>-0.044644</td>\n",
       "      <td>-0.054534</td>\n",
       "      <td>0.039292</td>\n",
       "      <td>0.116008</td>\n",
       "      <td>0.124423</td>\n",
       "      <td>0.207416</td>\n",
       "      <td>0.177721</td>\n",
       "      <td>1.000000</td>\n",
       "      <td>0.061698</td>\n",
       "      <td>-0.019250</td>\n",
       "    </tr>\n",
       "    <tr>\n",
       "      <th>B</th>\n",
       "      <td>0.160741</td>\n",
       "      <td>0.116004</td>\n",
       "      <td>0.196715</td>\n",
       "      <td>-0.039924</td>\n",
       "      <td>-0.033836</td>\n",
       "      <td>0.082263</td>\n",
       "      <td>0.154550</td>\n",
       "      <td>0.340027</td>\n",
       "      <td>0.202724</td>\n",
       "      <td>0.150669</td>\n",
       "      <td>0.061698</td>\n",
       "      <td>1.000000</td>\n",
       "      <td>0.136729</td>\n",
       "    </tr>\n",
       "    <tr>\n",
       "      <th>Output</th>\n",
       "      <td>0.805904</td>\n",
       "      <td>0.498192</td>\n",
       "      <td>0.006743</td>\n",
       "      <td>0.124949</td>\n",
       "      <td>-0.007307</td>\n",
       "      <td>0.061518</td>\n",
       "      <td>0.012249</td>\n",
       "      <td>-0.055139</td>\n",
       "      <td>0.017049</td>\n",
       "      <td>-0.020509</td>\n",
       "      <td>-0.019250</td>\n",
       "      <td>0.136729</td>\n",
       "      <td>1.000000</td>\n",
       "    </tr>\n",
       "  </tbody>\n",
       "</table>\n",
       "</div>"
      ],
      "text/plain": [
       "               N         P         K        pH        EC        OC         S  \\\n",
       "N       1.000000  0.373325  0.078492  0.116264  0.003855  0.045957  0.000611   \n",
       "P       0.373325  1.000000  0.083371  0.026993 -0.012562  0.026222  0.019691   \n",
       "K       0.078492  0.083371  1.000000 -0.073127 -0.072611 -0.038337 -0.011863   \n",
       "pH      0.116264  0.026993 -0.073127  1.000000  0.197908 -0.002398  0.040848   \n",
       "EC      0.003855 -0.012562 -0.072611  0.197908  1.000000 -0.042998  0.052920   \n",
       "OC      0.045957  0.026222 -0.038337 -0.002398 -0.042998  1.000000  0.061538   \n",
       "S       0.000611  0.019691 -0.011863  0.040848  0.052920  0.061538  1.000000   \n",
       "Zn     -0.049893 -0.013526  0.142869 -0.026277  0.009271  0.060091  0.137062   \n",
       "Fe      0.003627 -0.010765 -0.029318 -0.005978 -0.060034  0.036977  0.163859   \n",
       "Cu     -0.017018  0.021784  0.063273  0.037209  0.055327  0.086303  0.144667   \n",
       "Mn     -0.045062  0.061664  0.029536 -0.044644 -0.054534  0.039292  0.116008   \n",
       "B       0.160741  0.116004  0.196715 -0.039924 -0.033836  0.082263  0.154550   \n",
       "Output  0.805904  0.498192  0.006743  0.124949 -0.007307  0.061518  0.012249   \n",
       "\n",
       "              Zn        Fe        Cu        Mn         B    Output  \n",
       "N      -0.049893  0.003627 -0.017018 -0.045062  0.160741  0.805904  \n",
       "P      -0.013526 -0.010765  0.021784  0.061664  0.116004  0.498192  \n",
       "K       0.142869 -0.029318  0.063273  0.029536  0.196715  0.006743  \n",
       "pH     -0.026277 -0.005978  0.037209 -0.044644 -0.039924  0.124949  \n",
       "EC      0.009271 -0.060034  0.055327 -0.054534 -0.033836 -0.007307  \n",
       "OC      0.060091  0.036977  0.086303  0.039292  0.082263  0.061518  \n",
       "S       0.137062  0.163859  0.144667  0.116008  0.154550  0.012249  \n",
       "Zn      1.000000  0.270433  0.265744  0.124423  0.340027 -0.055139  \n",
       "Fe      0.270433  1.000000  0.259854  0.207416  0.202724  0.017049  \n",
       "Cu      0.265744  0.259854  1.000000  0.177721  0.150669 -0.020509  \n",
       "Mn      0.124423  0.207416  0.177721  1.000000  0.061698 -0.019250  \n",
       "B       0.340027  0.202724  0.150669  0.061698  1.000000  0.136729  \n",
       "Output -0.055139  0.017049 -0.020509 -0.019250  0.136729  1.000000  "
      ]
     },
     "execution_count": 311,
     "metadata": {},
     "output_type": "execute_result"
    }
   ],
   "source": [
    "corr = soil.corr()\n",
    "corr"
   ]
  },
  {
   "cell_type": "code",
   "execution_count": 312,
   "id": "fa0d952b",
   "metadata": {},
   "outputs": [
    {
     "data": {
      "text/plain": [
       "<AxesSubplot:>"
      ]
     },
     "execution_count": 312,
     "metadata": {},
     "output_type": "execute_result"
    },
    {
     "data": {
      "image/png": "[encoded data removed]",
      "text/plain": [
       "<Figure size 432x288 with 2 Axes>"
      ]
     },
     "metadata": {
      "needs_background": "light"
     },
     "output_type": "display_data"
    }
   ],
   "source": [
    "import seaborn as sns\n",
    "sns.heatmap(corr)"
   ]
  },
  {
   "cell_type": "code",
   "execution_count": 313,
   "id": "8f721881",
   "metadata": {},
   "outputs": [
    {
     "data": {
      "text/plain": [
       "array([[<AxesSubplot:title={'center':'N'}>,\n",
       "        <AxesSubplot:title={'center':'P'}>,\n",
       "        <AxesSubplot:title={'center':'K'}>,\n",
       "        <AxesSubplot:title={'center':'pH'}>],\n",
       "       [<AxesSubplot:title={'center':'EC'}>,\n",
       "        <AxesSubplot:title={'center':'OC'}>,\n",
       "        <AxesSubplot:title={'center':'S'}>,\n",
       "        <AxesSubplot:title={'center':'Zn'}>],\n",
       "       [<AxesSubplot:title={'center':'Fe'}>,\n",
       "        <AxesSubplot:title={'center':'Cu'}>,\n",
       "        <AxesSubplot:title={'center':'Mn'}>,\n",
       "        <AxesSubplot:title={'center':'B'}>],\n",
       "       [<AxesSubplot:title={'center':'Output'}>, <AxesSubplot:>,\n",
       "        <AxesSubplot:>, <AxesSubplot:>]], dtype=object)"
      ]
     },
     "execution_count": 313,
     "metadata": {},
     "output_type": "execute_result"
    },
    {
     "data": {
      "image/png": "[encoded data removed]",
      "text/plain": [
       "<Figure size 1224x1224 with 16 Axes>"
      ]
     },
     "metadata": {
      "needs_background": "light"
     },
     "output_type": "display_data"
    }
   ],
   "source": [
    "soil.hist(figsize=(17,17))"
   ]
  },
  {
   "cell_type": "markdown",
   "id": "33fd94fb",
   "metadata": {},
   "source": [
    "the data is not scaled so will scaled the features and the join the output with scaled data"
   ]
  },
  {
   "cell_type": "code",
   "execution_count": 314,
   "id": "e0fc42ce",
   "metadata": {},
   "outputs": [],
   "source": [
    "Feature = soil.drop(['Output'], axis = 1)"
   ]
  },
  {
   "cell_type": "code",
   "execution_count": 315,
   "id": "e17b6a44",
   "metadata": {},
   "outputs": [
    {
     "data": {
      "text/html": [
       "<div>\n",
       "<style scoped>\n",
       "    .dataframe tbody tr th:only-of-type {\n",
       "        vertical-align: middle;\n",
       "    }\n",
       "\n",
       "    .dataframe tbody tr th {\n",
       "        vertical-align: top;\n",
       "    }\n",
       "\n",
       "    .dataframe thead th {\n",
       "        text-align: right;\n",
       "    }\n",
       "</style>\n",
       "<table border=\"1\" class=\"dataframe\">\n",
       "  <thead>\n",
       "    <tr style=\"text-align: right;\">\n",
       "      <th></th>\n",
       "      <th>N</th>\n",
       "      <th>P</th>\n",
       "      <th>K</th>\n",
       "      <th>pH</th>\n",
       "      <th>EC</th>\n",
       "      <th>OC</th>\n",
       "      <th>S</th>\n",
       "      <th>Zn</th>\n",
       "      <th>Fe</th>\n",
       "      <th>Cu</th>\n",
       "      <th>Mn</th>\n",
       "      <th>B</th>\n",
       "    </tr>\n",
       "  </thead>\n",
       "  <tbody>\n",
       "    <tr>\n",
       "      <th>0</th>\n",
       "      <td>138</td>\n",
       "      <td>8.6</td>\n",
       "      <td>560</td>\n",
       "      <td>7.46</td>\n",
       "      <td>0.62</td>\n",
       "      <td>0.70</td>\n",
       "      <td>5.90</td>\n",
       "      <td>0.24</td>\n",
       "      <td>0.31</td>\n",
       "      <td>0.77</td>\n",
       "      <td>8.71</td>\n",
       "      <td>0.11</td>\n",
       "    </tr>\n",
       "    <tr>\n",
       "      <th>1</th>\n",
       "      <td>245</td>\n",
       "      <td>8.1</td>\n",
       "      <td>560</td>\n",
       "      <td>7.31</td>\n",
       "      <td>0.63</td>\n",
       "      <td>0.78</td>\n",
       "      <td>11.60</td>\n",
       "      <td>0.29</td>\n",
       "      <td>0.43</td>\n",
       "      <td>0.57</td>\n",
       "      <td>7.73</td>\n",
       "      <td>0.74</td>\n",
       "    </tr>\n",
       "    <tr>\n",
       "      <th>2</th>\n",
       "      <td>245</td>\n",
       "      <td>8.3</td>\n",
       "      <td>560</td>\n",
       "      <td>7.58</td>\n",
       "      <td>0.74</td>\n",
       "      <td>0.83</td>\n",
       "      <td>8.20</td>\n",
       "      <td>0.32</td>\n",
       "      <td>0.96</td>\n",
       "      <td>1.57</td>\n",
       "      <td>2.67</td>\n",
       "      <td>0.59</td>\n",
       "    </tr>\n",
       "    <tr>\n",
       "      <th>3</th>\n",
       "      <td>107</td>\n",
       "      <td>8.3</td>\n",
       "      <td>612</td>\n",
       "      <td>7.43</td>\n",
       "      <td>0.43</td>\n",
       "      <td>0.75</td>\n",
       "      <td>7.20</td>\n",
       "      <td>0.18</td>\n",
       "      <td>0.95</td>\n",
       "      <td>0.89</td>\n",
       "      <td>2.16</td>\n",
       "      <td>0.74</td>\n",
       "    </tr>\n",
       "    <tr>\n",
       "      <th>4</th>\n",
       "      <td>201</td>\n",
       "      <td>5.3</td>\n",
       "      <td>507</td>\n",
       "      <td>7.60</td>\n",
       "      <td>0.53</td>\n",
       "      <td>0.39</td>\n",
       "      <td>10.86</td>\n",
       "      <td>0.32</td>\n",
       "      <td>9.32</td>\n",
       "      <td>0.69</td>\n",
       "      <td>9.03</td>\n",
       "      <td>0.69</td>\n",
       "    </tr>\n",
       "    <tr>\n",
       "      <th>...</th>\n",
       "      <td>...</td>\n",
       "      <td>...</td>\n",
       "      <td>...</td>\n",
       "      <td>...</td>\n",
       "      <td>...</td>\n",
       "      <td>...</td>\n",
       "      <td>...</td>\n",
       "      <td>...</td>\n",
       "      <td>...</td>\n",
       "      <td>...</td>\n",
       "      <td>...</td>\n",
       "      <td>...</td>\n",
       "    </tr>\n",
       "    <tr>\n",
       "      <th>432</th>\n",
       "      <td>339</td>\n",
       "      <td>8.3</td>\n",
       "      <td>380</td>\n",
       "      <td>7.67</td>\n",
       "      <td>0.32</td>\n",
       "      <td>0.88</td>\n",
       "      <td>5.13</td>\n",
       "      <td>0.33</td>\n",
       "      <td>7.96</td>\n",
       "      <td>1.65</td>\n",
       "      <td>12.47</td>\n",
       "      <td>0.44</td>\n",
       "    </tr>\n",
       "    <tr>\n",
       "      <th>433</th>\n",
       "      <td>264</td>\n",
       "      <td>9.0</td>\n",
       "      <td>486</td>\n",
       "      <td>7.24</td>\n",
       "      <td>0.47</td>\n",
       "      <td>0.10</td>\n",
       "      <td>3.92</td>\n",
       "      <td>0.35</td>\n",
       "      <td>8.26</td>\n",
       "      <td>0.45</td>\n",
       "      <td>7.98</td>\n",
       "      <td>0.40</td>\n",
       "    </tr>\n",
       "    <tr>\n",
       "      <th>434</th>\n",
       "      <td>276</td>\n",
       "      <td>9.2</td>\n",
       "      <td>370</td>\n",
       "      <td>7.62</td>\n",
       "      <td>0.62</td>\n",
       "      <td>0.49</td>\n",
       "      <td>6.64</td>\n",
       "      <td>0.42</td>\n",
       "      <td>3.57</td>\n",
       "      <td>0.63</td>\n",
       "      <td>6.48</td>\n",
       "      <td>0.32</td>\n",
       "    </tr>\n",
       "    <tr>\n",
       "      <th>435</th>\n",
       "      <td>320</td>\n",
       "      <td>13.8</td>\n",
       "      <td>391</td>\n",
       "      <td>7.38</td>\n",
       "      <td>0.65</td>\n",
       "      <td>1.07</td>\n",
       "      <td>5.43</td>\n",
       "      <td>0.58</td>\n",
       "      <td>4.58</td>\n",
       "      <td>1.02</td>\n",
       "      <td>13.25</td>\n",
       "      <td>0.53</td>\n",
       "    </tr>\n",
       "    <tr>\n",
       "      <th>436</th>\n",
       "      <td>264</td>\n",
       "      <td>10.3</td>\n",
       "      <td>475</td>\n",
       "      <td>7.49</td>\n",
       "      <td>0.74</td>\n",
       "      <td>0.88</td>\n",
       "      <td>10.56</td>\n",
       "      <td>0.45</td>\n",
       "      <td>7.36</td>\n",
       "      <td>1.87</td>\n",
       "      <td>10.63</td>\n",
       "      <td>0.63</td>\n",
       "    </tr>\n",
       "  </tbody>\n",
       "</table>\n",
       "<p>437 rows × 12 columns</p>\n",
       "</div>"
      ],
      "text/plain": [
       "       N     P    K    pH    EC    OC      S    Zn    Fe    Cu     Mn     B\n",
       "0    138   8.6  560  7.46  0.62  0.70   5.90  0.24  0.31  0.77   8.71  0.11\n",
       "1    245   8.1  560  7.31  0.63  0.78  11.60  0.29  0.43  0.57   7.73  0.74\n",
       "2    245   8.3  560  7.58  0.74  0.83   8.20  0.32  0.96  1.57   2.67  0.59\n",
       "3    107   8.3  612  7.43  0.43  0.75   7.20  0.18  0.95  0.89   2.16  0.74\n",
       "4    201   5.3  507  7.60  0.53  0.39  10.86  0.32  9.32  0.69   9.03  0.69\n",
       "..   ...   ...  ...   ...   ...   ...    ...   ...   ...   ...    ...   ...\n",
       "432  339   8.3  380  7.67  0.32  0.88   5.13  0.33  7.96  1.65  12.47  0.44\n",
       "433  264   9.0  486  7.24  0.47  0.10   3.92  0.35  8.26  0.45   7.98  0.40\n",
       "434  276   9.2  370  7.62  0.62  0.49   6.64  0.42  3.57  0.63   6.48  0.32\n",
       "435  320  13.8  391  7.38  0.65  1.07   5.43  0.58  4.58  1.02  13.25  0.53\n",
       "436  264  10.3  475  7.49  0.74  0.88  10.56  0.45  7.36  1.87  10.63  0.63\n",
       "\n",
       "[437 rows x 12 columns]"
      ]
     },
     "execution_count": 315,
     "metadata": {},
     "output_type": "execute_result"
    }
   ],
   "source": [
    "Feature"
   ]
  },
  {
   "cell_type": "code",
   "execution_count": 316,
   "id": "1deec0ae",
   "metadata": {},
   "outputs": [
    {
     "data": {
      "text/html": [
       "<div>\n",
       "<style scoped>\n",
       "    .dataframe tbody tr th:only-of-type {\n",
       "        vertical-align: middle;\n",
       "    }\n",
       "\n",
       "    .dataframe tbody tr th {\n",
       "        vertical-align: top;\n",
       "    }\n",
       "\n",
       "    .dataframe thead th {\n",
       "        text-align: right;\n",
       "    }\n",
       "</style>\n",
       "<table border=\"1\" class=\"dataframe\">\n",
       "  <thead>\n",
       "    <tr style=\"text-align: right;\">\n",
       "      <th></th>\n",
       "      <th>Output</th>\n",
       "    </tr>\n",
       "  </thead>\n",
       "  <tbody>\n",
       "    <tr>\n",
       "      <th>0</th>\n",
       "      <td>0</td>\n",
       "    </tr>\n",
       "    <tr>\n",
       "      <th>1</th>\n",
       "      <td>0</td>\n",
       "    </tr>\n",
       "    <tr>\n",
       "      <th>2</th>\n",
       "      <td>0</td>\n",
       "    </tr>\n",
       "    <tr>\n",
       "      <th>3</th>\n",
       "      <td>0</td>\n",
       "    </tr>\n",
       "    <tr>\n",
       "      <th>4</th>\n",
       "      <td>0</td>\n",
       "    </tr>\n",
       "    <tr>\n",
       "      <th>...</th>\n",
       "      <td>...</td>\n",
       "    </tr>\n",
       "    <tr>\n",
       "      <th>432</th>\n",
       "      <td>1</td>\n",
       "    </tr>\n",
       "    <tr>\n",
       "      <th>433</th>\n",
       "      <td>1</td>\n",
       "    </tr>\n",
       "    <tr>\n",
       "      <th>434</th>\n",
       "      <td>1</td>\n",
       "    </tr>\n",
       "    <tr>\n",
       "      <th>435</th>\n",
       "      <td>2</td>\n",
       "    </tr>\n",
       "    <tr>\n",
       "      <th>436</th>\n",
       "      <td>0</td>\n",
       "    </tr>\n",
       "  </tbody>\n",
       "</table>\n",
       "<p>437 rows × 1 columns</p>\n",
       "</div>"
      ],
      "text/plain": [
       "     Output\n",
       "0         0\n",
       "1         0\n",
       "2         0\n",
       "3         0\n",
       "4         0\n",
       "..      ...\n",
       "432       1\n",
       "433       1\n",
       "434       1\n",
       "435       2\n",
       "436       0\n",
       "\n",
       "[437 rows x 1 columns]"
      ]
     },
     "execution_count": 316,
     "metadata": {},
     "output_type": "execute_result"
    }
   ],
   "source": [
    "Fertility = soil[['Output']]\n",
    "Fertility"
   ]
  },
  {
   "cell_type": "markdown",
   "id": "dac9eba3",
   "metadata": {},
   "source": [
    "as after log transformation some data are negative, we use a range between 0 and 1"
   ]
  },
  {
   "cell_type": "code",
   "execution_count": 317,
   "id": "7cba43d0",
   "metadata": {},
   "outputs": [],
   "source": [
    "from sklearn.preprocessing import MinMaxScaler"
   ]
  },
  {
   "cell_type": "code",
   "execution_count": 318,
   "id": "31e3536d",
   "metadata": {},
   "outputs": [],
   "source": [
    "scaler = MinMaxScaler()\n",
    "scaledFeatures = scaler.fit_transform(Feature)"
   ]
  },
  {
   "cell_type": "code",
   "execution_count": 319,
   "id": "d644181e",
   "metadata": {},
   "outputs": [
    {
     "data": {
      "text/plain": [
       "array([[0.13718412, 0.44339623, 0.65198238, ..., 0.38202247, 0.4765343 ,\n",
       "        0.06756757],\n",
       "       [0.5234657 , 0.39622642, 0.65198238, ..., 0.26966292, 0.40577617,\n",
       "        0.91891892],\n",
       "       [0.5234657 , 0.41509434, 0.65198238, ..., 0.83146067, 0.04043321,\n",
       "        0.71621622],\n",
       "       ...,\n",
       "       [0.63537906, 0.5       , 0.23348018, ..., 0.30337079, 0.31552347,\n",
       "        0.35135135],\n",
       "       [0.79422383, 0.93396226, 0.27973568, ..., 0.52247191, 0.80433213,\n",
       "        0.63513514],\n",
       "       [0.59205776, 0.60377358, 0.46475771, ..., 1.        , 0.61516245,\n",
       "        0.77027027]])"
      ]
     },
     "execution_count": 319,
     "metadata": {},
     "output_type": "execute_result"
    }
   ],
   "source": [
    "scaledFeatures"
   ]
  },
  {
   "cell_type": "code",
   "execution_count": 320,
   "id": "87b058c2",
   "metadata": {
    "scrolled": true
   },
   "outputs": [
    {
     "data": {
      "text/html": [
       "<div>\n",
       "<style scoped>\n",
       "    .dataframe tbody tr th:only-of-type {\n",
       "        vertical-align: middle;\n",
       "    }\n",
       "\n",
       "    .dataframe tbody tr th {\n",
       "        vertical-align: top;\n",
       "    }\n",
       "\n",
       "    .dataframe thead th {\n",
       "        text-align: right;\n",
       "    }\n",
       "</style>\n",
       "<table border=\"1\" class=\"dataframe\">\n",
       "  <thead>\n",
       "    <tr style=\"text-align: right;\">\n",
       "      <th></th>\n",
       "      <th>N</th>\n",
       "      <th>P</th>\n",
       "      <th>K</th>\n",
       "      <th>pH</th>\n",
       "      <th>EC</th>\n",
       "      <th>OC</th>\n",
       "      <th>S</th>\n",
       "      <th>Zn</th>\n",
       "      <th>Fe</th>\n",
       "      <th>Cu</th>\n",
       "      <th>Mn</th>\n",
       "      <th>B</th>\n",
       "    </tr>\n",
       "  </thead>\n",
       "  <tbody>\n",
       "    <tr>\n",
       "      <th>0</th>\n",
       "      <td>0.137184</td>\n",
       "      <td>0.443396</td>\n",
       "      <td>0.651982</td>\n",
       "      <td>0.455556</td>\n",
       "      <td>0.622951</td>\n",
       "      <td>0.560748</td>\n",
       "      <td>0.381818</td>\n",
       "      <td>0.224490</td>\n",
       "      <td>0.010571</td>\n",
       "      <td>0.382022</td>\n",
       "      <td>0.476534</td>\n",
       "      <td>0.067568</td>\n",
       "    </tr>\n",
       "    <tr>\n",
       "      <th>1</th>\n",
       "      <td>0.523466</td>\n",
       "      <td>0.396226</td>\n",
       "      <td>0.651982</td>\n",
       "      <td>0.288889</td>\n",
       "      <td>0.639344</td>\n",
       "      <td>0.635514</td>\n",
       "      <td>0.900000</td>\n",
       "      <td>0.326531</td>\n",
       "      <td>0.023256</td>\n",
       "      <td>0.269663</td>\n",
       "      <td>0.405776</td>\n",
       "      <td>0.918919</td>\n",
       "    </tr>\n",
       "    <tr>\n",
       "      <th>2</th>\n",
       "      <td>0.523466</td>\n",
       "      <td>0.415094</td>\n",
       "      <td>0.651982</td>\n",
       "      <td>0.588889</td>\n",
       "      <td>0.819672</td>\n",
       "      <td>0.682243</td>\n",
       "      <td>0.590909</td>\n",
       "      <td>0.387755</td>\n",
       "      <td>0.079281</td>\n",
       "      <td>0.831461</td>\n",
       "      <td>0.040433</td>\n",
       "      <td>0.716216</td>\n",
       "    </tr>\n",
       "    <tr>\n",
       "      <th>3</th>\n",
       "      <td>0.025271</td>\n",
       "      <td>0.415094</td>\n",
       "      <td>0.766520</td>\n",
       "      <td>0.422222</td>\n",
       "      <td>0.311475</td>\n",
       "      <td>0.607477</td>\n",
       "      <td>0.500000</td>\n",
       "      <td>0.102041</td>\n",
       "      <td>0.078224</td>\n",
       "      <td>0.449438</td>\n",
       "      <td>0.003610</td>\n",
       "      <td>0.918919</td>\n",
       "    </tr>\n",
       "    <tr>\n",
       "      <th>4</th>\n",
       "      <td>0.364621</td>\n",
       "      <td>0.132075</td>\n",
       "      <td>0.535242</td>\n",
       "      <td>0.611111</td>\n",
       "      <td>0.475410</td>\n",
       "      <td>0.271028</td>\n",
       "      <td>0.832727</td>\n",
       "      <td>0.387755</td>\n",
       "      <td>0.963002</td>\n",
       "      <td>0.337079</td>\n",
       "      <td>0.499639</td>\n",
       "      <td>0.851351</td>\n",
       "    </tr>\n",
       "    <tr>\n",
       "      <th>...</th>\n",
       "      <td>...</td>\n",
       "      <td>...</td>\n",
       "      <td>...</td>\n",
       "      <td>...</td>\n",
       "      <td>...</td>\n",
       "      <td>...</td>\n",
       "      <td>...</td>\n",
       "      <td>...</td>\n",
       "      <td>...</td>\n",
       "      <td>...</td>\n",
       "      <td>...</td>\n",
       "      <td>...</td>\n",
       "    </tr>\n",
       "    <tr>\n",
       "      <th>432</th>\n",
       "      <td>0.862816</td>\n",
       "      <td>0.415094</td>\n",
       "      <td>0.255507</td>\n",
       "      <td>0.688889</td>\n",
       "      <td>0.131148</td>\n",
       "      <td>0.728972</td>\n",
       "      <td>0.311818</td>\n",
       "      <td>0.408163</td>\n",
       "      <td>0.819239</td>\n",
       "      <td>0.876404</td>\n",
       "      <td>0.748014</td>\n",
       "      <td>0.513514</td>\n",
       "    </tr>\n",
       "    <tr>\n",
       "      <th>433</th>\n",
       "      <td>0.592058</td>\n",
       "      <td>0.481132</td>\n",
       "      <td>0.488987</td>\n",
       "      <td>0.211111</td>\n",
       "      <td>0.377049</td>\n",
       "      <td>0.000000</td>\n",
       "      <td>0.201818</td>\n",
       "      <td>0.448980</td>\n",
       "      <td>0.850951</td>\n",
       "      <td>0.202247</td>\n",
       "      <td>0.423827</td>\n",
       "      <td>0.459459</td>\n",
       "    </tr>\n",
       "    <tr>\n",
       "      <th>434</th>\n",
       "      <td>0.635379</td>\n",
       "      <td>0.500000</td>\n",
       "      <td>0.233480</td>\n",
       "      <td>0.633333</td>\n",
       "      <td>0.622951</td>\n",
       "      <td>0.364486</td>\n",
       "      <td>0.449091</td>\n",
       "      <td>0.591837</td>\n",
       "      <td>0.355180</td>\n",
       "      <td>0.303371</td>\n",
       "      <td>0.315523</td>\n",
       "      <td>0.351351</td>\n",
       "    </tr>\n",
       "    <tr>\n",
       "      <th>435</th>\n",
       "      <td>0.794224</td>\n",
       "      <td>0.933962</td>\n",
       "      <td>0.279736</td>\n",
       "      <td>0.366667</td>\n",
       "      <td>0.672131</td>\n",
       "      <td>0.906542</td>\n",
       "      <td>0.339091</td>\n",
       "      <td>0.918367</td>\n",
       "      <td>0.461945</td>\n",
       "      <td>0.522472</td>\n",
       "      <td>0.804332</td>\n",
       "      <td>0.635135</td>\n",
       "    </tr>\n",
       "    <tr>\n",
       "      <th>436</th>\n",
       "      <td>0.592058</td>\n",
       "      <td>0.603774</td>\n",
       "      <td>0.464758</td>\n",
       "      <td>0.488889</td>\n",
       "      <td>0.819672</td>\n",
       "      <td>0.728972</td>\n",
       "      <td>0.805455</td>\n",
       "      <td>0.653061</td>\n",
       "      <td>0.755814</td>\n",
       "      <td>1.000000</td>\n",
       "      <td>0.615162</td>\n",
       "      <td>0.770270</td>\n",
       "    </tr>\n",
       "  </tbody>\n",
       "</table>\n",
       "<p>437 rows × 12 columns</p>\n",
       "</div>"
      ],
      "text/plain": [
       "            N         P         K        pH        EC        OC         S  \\\n",
       "0    0.137184  0.443396  0.651982  0.455556  0.622951  0.560748  0.381818   \n",
       "1    0.523466  0.396226  0.651982  0.288889  0.639344  0.635514  0.900000   \n",
       "2    0.523466  0.415094  0.651982  0.588889  0.819672  0.682243  0.590909   \n",
       "3    0.025271  0.415094  0.766520  0.422222  0.311475  0.607477  0.500000   \n",
       "4    0.364621  0.132075  0.535242  0.611111  0.475410  0.271028  0.832727   \n",
       "..        ...       ...       ...       ...       ...       ...       ...   \n",
       "432  0.862816  0.415094  0.255507  0.688889  0.131148  0.728972  0.311818   \n",
       "433  0.592058  0.481132  0.488987  0.211111  0.377049  0.000000  0.201818   \n",
       "434  0.635379  0.500000  0.233480  0.633333  0.622951  0.364486  0.449091   \n",
       "435  0.794224  0.933962  0.279736  0.366667  0.672131  0.906542  0.339091   \n",
       "436  0.592058  0.603774  0.464758  0.488889  0.819672  0.728972  0.805455   \n",
       "\n",
       "           Zn        Fe        Cu        Mn         B  \n",
       "0    0.224490  0.010571  0.382022  0.476534  0.067568  \n",
       "1    0.326531  0.023256  0.269663  0.405776  0.918919  \n",
       "2    0.387755  0.079281  0.831461  0.040433  0.716216  \n",
       "3    0.102041  0.078224  0.449438  0.003610  0.918919  \n",
       "4    0.387755  0.963002  0.337079  0.499639  0.851351  \n",
       "..        ...       ...       ...       ...       ...  \n",
       "432  0.408163  0.819239  0.876404  0.748014  0.513514  \n",
       "433  0.448980  0.850951  0.202247  0.423827  0.459459  \n",
       "434  0.591837  0.355180  0.303371  0.315523  0.351351  \n",
       "435  0.918367  0.461945  0.522472  0.804332  0.635135  \n",
       "436  0.653061  0.755814  1.000000  0.615162  0.770270  \n",
       "\n",
       "[437 rows x 12 columns]"
      ]
     },
     "execution_count": 320,
     "metadata": {},
     "output_type": "execute_result"
    }
   ],
   "source": [
    "ScaledFeatureDF = pd.DataFrame(scaledFeatures, columns= Feature.columns)\n",
    "ScaledFeatureDF"
   ]
  },
  {
   "cell_type": "code",
   "execution_count": 321,
   "id": "90688481",
   "metadata": {
    "scrolled": true
   },
   "outputs": [
    {
     "data": {
      "text/plain": [
       "array([[<AxesSubplot:title={'center':'N'}>,\n",
       "        <AxesSubplot:title={'center':'P'}>,\n",
       "        <AxesSubplot:title={'center':'K'}>],\n",
       "       [<AxesSubplot:title={'center':'pH'}>,\n",
       "        <AxesSubplot:title={'center':'EC'}>,\n",
       "        <AxesSubplot:title={'center':'OC'}>],\n",
       "       [<AxesSubplot:title={'center':'S'}>,\n",
       "        <AxesSubplot:title={'center':'Zn'}>,\n",
       "        <AxesSubplot:title={'center':'Fe'}>],\n",
       "       [<AxesSubplot:title={'center':'Cu'}>,\n",
       "        <AxesSubplot:title={'center':'Mn'}>,\n",
       "        <AxesSubplot:title={'center':'B'}>]], dtype=object)"
      ]
     },
     "execution_count": 321,
     "metadata": {},
     "output_type": "execute_result"
    },
    {
     "data": {
      "image/png": "[encoded data removed]",
      "text/plain": [
       "<Figure size 1224x1224 with 12 Axes>"
      ]
     },
     "metadata": {
      "needs_background": "light"
     },
     "output_type": "display_data"
    }
   ],
   "source": [
    "ScaledFeatureDF.hist(figsize=(17,17))"
   ]
  },
  {
   "cell_type": "markdown",
   "id": "bfbfe772",
   "metadata": {},
   "source": [
    "here value are in good scale"
   ]
  },
  {
   "cell_type": "code",
   "execution_count": 322,
   "id": "664a6acc",
   "metadata": {},
   "outputs": [],
   "source": [
    "#now features are scaled\n",
    "#we now perform train and test dataset split\n",
    "# and before splitting we will joim the output clums with the scaled data\n",
    "#no need to join (lesson from train test split)"
   ]
  },
  {
   "cell_type": "code",
   "execution_count": 323,
   "id": "41a6cb76",
   "metadata": {
    "scrolled": true
   },
   "outputs": [
    {
     "data": {
      "text/html": [
       "<div>\n",
       "<style scoped>\n",
       "    .dataframe tbody tr th:only-of-type {\n",
       "        vertical-align: middle;\n",
       "    }\n",
       "\n",
       "    .dataframe tbody tr th {\n",
       "        vertical-align: top;\n",
       "    }\n",
       "\n",
       "    .dataframe thead th {\n",
       "        text-align: right;\n",
       "    }\n",
       "</style>\n",
       "<table border=\"1\" class=\"dataframe\">\n",
       "  <thead>\n",
       "    <tr style=\"text-align: right;\">\n",
       "      <th></th>\n",
       "      <th>N</th>\n",
       "      <th>P</th>\n",
       "      <th>K</th>\n",
       "      <th>pH</th>\n",
       "      <th>EC</th>\n",
       "      <th>OC</th>\n",
       "      <th>S</th>\n",
       "      <th>Zn</th>\n",
       "      <th>Fe</th>\n",
       "      <th>Cu</th>\n",
       "      <th>Mn</th>\n",
       "      <th>B</th>\n",
       "      <th>Output</th>\n",
       "    </tr>\n",
       "  </thead>\n",
       "  <tbody>\n",
       "    <tr>\n",
       "      <th>0</th>\n",
       "      <td>0.137184</td>\n",
       "      <td>0.443396</td>\n",
       "      <td>0.651982</td>\n",
       "      <td>0.455556</td>\n",
       "      <td>0.622951</td>\n",
       "      <td>0.560748</td>\n",
       "      <td>0.381818</td>\n",
       "      <td>0.224490</td>\n",
       "      <td>0.010571</td>\n",
       "      <td>0.382022</td>\n",
       "      <td>0.476534</td>\n",
       "      <td>0.067568</td>\n",
       "      <td>0</td>\n",
       "    </tr>\n",
       "    <tr>\n",
       "      <th>1</th>\n",
       "      <td>0.523466</td>\n",
       "      <td>0.396226</td>\n",
       "      <td>0.651982</td>\n",
       "      <td>0.288889</td>\n",
       "      <td>0.639344</td>\n",
       "      <td>0.635514</td>\n",
       "      <td>0.900000</td>\n",
       "      <td>0.326531</td>\n",
       "      <td>0.023256</td>\n",
       "      <td>0.269663</td>\n",
       "      <td>0.405776</td>\n",
       "      <td>0.918919</td>\n",
       "      <td>0</td>\n",
       "    </tr>\n",
       "    <tr>\n",
       "      <th>2</th>\n",
       "      <td>0.523466</td>\n",
       "      <td>0.415094</td>\n",
       "      <td>0.651982</td>\n",
       "      <td>0.588889</td>\n",
       "      <td>0.819672</td>\n",
       "      <td>0.682243</td>\n",
       "      <td>0.590909</td>\n",
       "      <td>0.387755</td>\n",
       "      <td>0.079281</td>\n",
       "      <td>0.831461</td>\n",
       "      <td>0.040433</td>\n",
       "      <td>0.716216</td>\n",
       "      <td>0</td>\n",
       "    </tr>\n",
       "    <tr>\n",
       "      <th>3</th>\n",
       "      <td>0.025271</td>\n",
       "      <td>0.415094</td>\n",
       "      <td>0.766520</td>\n",
       "      <td>0.422222</td>\n",
       "      <td>0.311475</td>\n",
       "      <td>0.607477</td>\n",
       "      <td>0.500000</td>\n",
       "      <td>0.102041</td>\n",
       "      <td>0.078224</td>\n",
       "      <td>0.449438</td>\n",
       "      <td>0.003610</td>\n",
       "      <td>0.918919</td>\n",
       "      <td>0</td>\n",
       "    </tr>\n",
       "    <tr>\n",
       "      <th>4</th>\n",
       "      <td>0.364621</td>\n",
       "      <td>0.132075</td>\n",
       "      <td>0.535242</td>\n",
       "      <td>0.611111</td>\n",
       "      <td>0.475410</td>\n",
       "      <td>0.271028</td>\n",
       "      <td>0.832727</td>\n",
       "      <td>0.387755</td>\n",
       "      <td>0.963002</td>\n",
       "      <td>0.337079</td>\n",
       "      <td>0.499639</td>\n",
       "      <td>0.851351</td>\n",
       "      <td>0</td>\n",
       "    </tr>\n",
       "    <tr>\n",
       "      <th>...</th>\n",
       "      <td>...</td>\n",
       "      <td>...</td>\n",
       "      <td>...</td>\n",
       "      <td>...</td>\n",
       "      <td>...</td>\n",
       "      <td>...</td>\n",
       "      <td>...</td>\n",
       "      <td>...</td>\n",
       "      <td>...</td>\n",
       "      <td>...</td>\n",
       "      <td>...</td>\n",
       "      <td>...</td>\n",
       "      <td>...</td>\n",
       "    </tr>\n",
       "    <tr>\n",
       "      <th>432</th>\n",
       "      <td>0.862816</td>\n",
       "      <td>0.415094</td>\n",
       "      <td>0.255507</td>\n",
       "      <td>0.688889</td>\n",
       "      <td>0.131148</td>\n",
       "      <td>0.728972</td>\n",
       "      <td>0.311818</td>\n",
       "      <td>0.408163</td>\n",
       "      <td>0.819239</td>\n",
       "      <td>0.876404</td>\n",
       "      <td>0.748014</td>\n",
       "      <td>0.513514</td>\n",
       "      <td>1</td>\n",
       "    </tr>\n",
       "    <tr>\n",
       "      <th>433</th>\n",
       "      <td>0.592058</td>\n",
       "      <td>0.481132</td>\n",
       "      <td>0.488987</td>\n",
       "      <td>0.211111</td>\n",
       "      <td>0.377049</td>\n",
       "      <td>0.000000</td>\n",
       "      <td>0.201818</td>\n",
       "      <td>0.448980</td>\n",
       "      <td>0.850951</td>\n",
       "      <td>0.202247</td>\n",
       "      <td>0.423827</td>\n",
       "      <td>0.459459</td>\n",
       "      <td>1</td>\n",
       "    </tr>\n",
       "    <tr>\n",
       "      <th>434</th>\n",
       "      <td>0.635379</td>\n",
       "      <td>0.500000</td>\n",
       "      <td>0.233480</td>\n",
       "      <td>0.633333</td>\n",
       "      <td>0.622951</td>\n",
       "      <td>0.364486</td>\n",
       "      <td>0.449091</td>\n",
       "      <td>0.591837</td>\n",
       "      <td>0.355180</td>\n",
       "      <td>0.303371</td>\n",
       "      <td>0.315523</td>\n",
       "      <td>0.351351</td>\n",
       "      <td>1</td>\n",
       "    </tr>\n",
       "    <tr>\n",
       "      <th>435</th>\n",
       "      <td>0.794224</td>\n",
       "      <td>0.933962</td>\n",
       "      <td>0.279736</td>\n",
       "      <td>0.366667</td>\n",
       "      <td>0.672131</td>\n",
       "      <td>0.906542</td>\n",
       "      <td>0.339091</td>\n",
       "      <td>0.918367</td>\n",
       "      <td>0.461945</td>\n",
       "      <td>0.522472</td>\n",
       "      <td>0.804332</td>\n",
       "      <td>0.635135</td>\n",
       "      <td>2</td>\n",
       "    </tr>\n",
       "    <tr>\n",
       "      <th>436</th>\n",
       "      <td>0.592058</td>\n",
       "      <td>0.603774</td>\n",
       "      <td>0.464758</td>\n",
       "      <td>0.488889</td>\n",
       "      <td>0.819672</td>\n",
       "      <td>0.728972</td>\n",
       "      <td>0.805455</td>\n",
       "      <td>0.653061</td>\n",
       "      <td>0.755814</td>\n",
       "      <td>1.000000</td>\n",
       "      <td>0.615162</td>\n",
       "      <td>0.770270</td>\n",
       "      <td>0</td>\n",
       "    </tr>\n",
       "  </tbody>\n",
       "</table>\n",
       "<p>437 rows × 13 columns</p>\n",
       "</div>"
      ],
      "text/plain": [
       "            N         P         K        pH        EC        OC         S  \\\n",
       "0    0.137184  0.443396  0.651982  0.455556  0.622951  0.560748  0.381818   \n",
       "1    0.523466  0.396226  0.651982  0.288889  0.639344  0.635514  0.900000   \n",
       "2    0.523466  0.415094  0.651982  0.588889  0.819672  0.682243  0.590909   \n",
       "3    0.025271  0.415094  0.766520  0.422222  0.311475  0.607477  0.500000   \n",
       "4    0.364621  0.132075  0.535242  0.611111  0.475410  0.271028  0.832727   \n",
       "..        ...       ...       ...       ...       ...       ...       ...   \n",
       "432  0.862816  0.415094  0.255507  0.688889  0.131148  0.728972  0.311818   \n",
       "433  0.592058  0.481132  0.488987  0.211111  0.377049  0.000000  0.201818   \n",
       "434  0.635379  0.500000  0.233480  0.633333  0.622951  0.364486  0.449091   \n",
       "435  0.794224  0.933962  0.279736  0.366667  0.672131  0.906542  0.339091   \n",
       "436  0.592058  0.603774  0.464758  0.488889  0.819672  0.728972  0.805455   \n",
       "\n",
       "           Zn        Fe        Cu        Mn         B  Output  \n",
       "0    0.224490  0.010571  0.382022  0.476534  0.067568       0  \n",
       "1    0.326531  0.023256  0.269663  0.405776  0.918919       0  \n",
       "2    0.387755  0.079281  0.831461  0.040433  0.716216       0  \n",
       "3    0.102041  0.078224  0.449438  0.003610  0.918919       0  \n",
       "4    0.387755  0.963002  0.337079  0.499639  0.851351       0  \n",
       "..        ...       ...       ...       ...       ...     ...  \n",
       "432  0.408163  0.819239  0.876404  0.748014  0.513514       1  \n",
       "433  0.448980  0.850951  0.202247  0.423827  0.459459       1  \n",
       "434  0.591837  0.355180  0.303371  0.315523  0.351351       1  \n",
       "435  0.918367  0.461945  0.522472  0.804332  0.635135       2  \n",
       "436  0.653061  0.755814  1.000000  0.615162  0.770270       0  \n",
       "\n",
       "[437 rows x 13 columns]"
      ]
     },
     "execution_count": 323,
     "metadata": {},
     "output_type": "execute_result"
    }
   ],
   "source": [
    "#joining th output column\n",
    "main_data = pd.concat([ScaledFeatureDF, Fertility], axis = 1)\n",
    "main_data"
   ]
  },
  {
   "cell_type": "markdown",
   "id": "443a4389",
   "metadata": {},
   "source": [
    "# splitting 80 - 20 data"
   ]
  },
  {
   "cell_type": "code",
   "execution_count": 324,
   "id": "68112b29",
   "metadata": {},
   "outputs": [],
   "source": [
    "from sklearn.model_selection import train_test_split as tt"
   ]
  },
  {
   "cell_type": "code",
   "execution_count": 325,
   "id": "05c5f376",
   "metadata": {},
   "outputs": [
    {
     "data": {
      "text/plain": [
       "[            N         P         K        pH        EC        OC         S  \\\n",
       " 265  0.772563  0.339623  0.092511  0.655556  0.557377  0.093458  0.284545   \n",
       " 405  0.433213  0.481132  0.418502  0.266667  0.983607  0.177570  0.256364   \n",
       " 31   0.884477  0.273585  0.511013  0.722222  0.540984  0.728972  0.722727   \n",
       " 84   0.703971  0.415094  0.744493  0.700000  0.442623  0.485981  0.127273   \n",
       " 299  0.794224  0.830189  0.185022  0.277778  0.327869  0.177570  0.558182   \n",
       " ..        ...       ...       ...       ...       ...       ...       ...   \n",
       " 106  1.000000  0.273585  0.138767  0.511111  1.000000  0.149533  0.209091   \n",
       " 270  0.274368  0.726415  0.301762  0.855556  0.639344  0.177570  0.832727   \n",
       " 348  0.635379  0.443396  0.488987  0.522222  0.459016  0.542056  0.284545   \n",
       " 435  0.794224  0.933962  0.279736  0.366667  0.672131  0.906542  0.339091   \n",
       " 102  0.841155  0.188679  0.279736  0.433333  0.688525  0.149533  0.300000   \n",
       " \n",
       "            Zn        Fe        Cu        Mn         B  \n",
       " 265  0.387755  0.430233  0.455056  0.644043  0.567568  \n",
       " 405  0.530612  0.416490  0.421348  0.428881  0.310811  \n",
       " 31   0.326531  0.643763  0.797753  0.520578  0.378378  \n",
       " 84   0.428571  0.246300  0.191011  0.376173  0.054054  \n",
       " 299  0.469388  0.540169  0.539326  0.356679  0.567568  \n",
       " ..        ...       ...       ...       ...       ...  \n",
       " 106  0.244898  0.361522  0.556180  0.413718  0.094595  \n",
       " 270  0.857143  0.473573  0.842697  0.740072  0.283784  \n",
       " 348  0.510204  0.416490  0.522472  0.498917  0.283784  \n",
       " 435  0.918367  0.461945  0.522472  0.804332  0.635135  \n",
       " 102  0.265306  0.348837  0.089888  0.378339  0.121622  \n",
       " \n",
       " [349 rows x 12 columns],\n",
       "             N         P         K        pH        EC        OC         S  \\\n",
       " 395  0.794224  0.981132  0.442731  0.588889  0.327869  0.364486  0.256364   \n",
       " 78   0.613718  0.396226  0.070485  0.400000  0.639344  0.616822  0.227273   \n",
       " 278  0.703971  0.254717  0.209251  0.455556  0.754098  1.000000  0.311818   \n",
       " 305  0.747292  0.584906  0.279736  0.166667  0.475410  0.093458  0.420909   \n",
       " 325  0.635379  0.150943  0.185022  0.277778  0.622951  0.093458  0.201818   \n",
       " ..        ...       ...       ...       ...       ...       ...       ...   \n",
       " 57   0.137184  0.207547  0.418502  0.755556  0.688525  0.813084  0.545455   \n",
       " 137  0.433213  0.481132  0.301762  0.688889  0.622951  0.644860  0.163636   \n",
       " 24   0.566787  0.443396  0.442731  0.388889  0.327869  0.635514  0.256364   \n",
       " 17   0.386282  0.339623  0.325991  0.388889  0.606557  0.000000  0.366364   \n",
       " 66   0.772563  0.311321  0.279736  0.622222  0.459016  0.345794  0.181818   \n",
       " \n",
       "            Zn        Fe        Cu        Mn         B  \n",
       " 395  0.530612  0.634249  0.634831  0.862094  0.662162  \n",
       " 78   0.428571  0.239958  0.303371  0.473646  0.121622  \n",
       " 278  0.244898  0.546512  0.943820  0.646209  0.283784  \n",
       " 305  0.285714  0.282241  0.303371  0.717690  0.405405  \n",
       " 325  0.306122  0.540169  0.365169  0.048375  0.459459  \n",
       " ..        ...       ...       ...       ...       ...  \n",
       " 57   0.489796  0.289641  0.567416  0.400000  0.067568  \n",
       " 137  0.204082  0.281184  0.213483  0.407942  0.202703  \n",
       " 24   0.469388  0.636364  0.331461  0.869314  0.459459  \n",
       " 17   0.795918  0.963002  0.522472  0.687365  0.972973  \n",
       " 66   0.428571  0.276956  0.455056  0.472924  0.162162  \n",
       " \n",
       " [88 rows x 12 columns],\n",
       "      Output\n",
       " 265       1\n",
       " 405       1\n",
       " 31        1\n",
       " 84        1\n",
       " 299       1\n",
       " ..      ...\n",
       " 106       1\n",
       " 270       0\n",
       " 348       1\n",
       " 435       2\n",
       " 102       1\n",
       " \n",
       " [349 rows x 1 columns],\n",
       "      Output\n",
       " 395       1\n",
       " 78        1\n",
       " 278       1\n",
       " 305       1\n",
       " 325       1\n",
       " ..      ...\n",
       " 57        0\n",
       " 137       0\n",
       " 24        0\n",
       " 17        0\n",
       " 66        1\n",
       " \n",
       " [88 rows x 1 columns]]"
      ]
     },
     "execution_count": 325,
     "metadata": {},
     "output_type": "execute_result"
    }
   ],
   "source": [
    "tt(ScaledFeatureDF, Fertility,test_size=0.2,random_state=42)"
   ]
  },
  {
   "cell_type": "code",
   "execution_count": 326,
   "id": "3ae99926",
   "metadata": {},
   "outputs": [],
   "source": [
    "xtrain, xtest, ytrain, ytest = tt(ScaledFeatureDF, Fertility,test_size=0.2,random_state=42)"
   ]
  },
  {
   "cell_type": "code",
   "execution_count": 327,
   "id": "932bc8a7",
   "metadata": {
    "scrolled": true
   },
   "outputs": [
    {
     "data": {
      "text/plain": [
       "(            N         P         K        pH        EC        OC         S  \\\n",
       " 265  0.772563  0.339623  0.092511  0.655556  0.557377  0.093458  0.284545   \n",
       " 405  0.433213  0.481132  0.418502  0.266667  0.983607  0.177570  0.256364   \n",
       " 31   0.884477  0.273585  0.511013  0.722222  0.540984  0.728972  0.722727   \n",
       " 84   0.703971  0.415094  0.744493  0.700000  0.442623  0.485981  0.127273   \n",
       " 299  0.794224  0.830189  0.185022  0.277778  0.327869  0.177570  0.558182   \n",
       " ..        ...       ...       ...       ...       ...       ...       ...   \n",
       " 106  1.000000  0.273585  0.138767  0.511111  1.000000  0.149533  0.209091   \n",
       " 270  0.274368  0.726415  0.301762  0.855556  0.639344  0.177570  0.832727   \n",
       " 348  0.635379  0.443396  0.488987  0.522222  0.459016  0.542056  0.284545   \n",
       " 435  0.794224  0.933962  0.279736  0.366667  0.672131  0.906542  0.339091   \n",
       " 102  0.841155  0.188679  0.279736  0.433333  0.688525  0.149533  0.300000   \n",
       " \n",
       "            Zn        Fe        Cu        Mn         B  \n",
       " 265  0.387755  0.430233  0.455056  0.644043  0.567568  \n",
       " 405  0.530612  0.416490  0.421348  0.428881  0.310811  \n",
       " 31   0.326531  0.643763  0.797753  0.520578  0.378378  \n",
       " 84   0.428571  0.246300  0.191011  0.376173  0.054054  \n",
       " 299  0.469388  0.540169  0.539326  0.356679  0.567568  \n",
       " ..        ...       ...       ...       ...       ...  \n",
       " 106  0.244898  0.361522  0.556180  0.413718  0.094595  \n",
       " 270  0.857143  0.473573  0.842697  0.740072  0.283784  \n",
       " 348  0.510204  0.416490  0.522472  0.498917  0.283784  \n",
       " 435  0.918367  0.461945  0.522472  0.804332  0.635135  \n",
       " 102  0.265306  0.348837  0.089888  0.378339  0.121622  \n",
       " \n",
       " [349 rows x 12 columns],\n",
       "             N         P         K        pH        EC        OC         S  \\\n",
       " 395  0.794224  0.981132  0.442731  0.588889  0.327869  0.364486  0.256364   \n",
       " 78   0.613718  0.396226  0.070485  0.400000  0.639344  0.616822  0.227273   \n",
       " 278  0.703971  0.254717  0.209251  0.455556  0.754098  1.000000  0.311818   \n",
       " 305  0.747292  0.584906  0.279736  0.166667  0.475410  0.093458  0.420909   \n",
       " 325  0.635379  0.150943  0.185022  0.277778  0.622951  0.093458  0.201818   \n",
       " ..        ...       ...       ...       ...       ...       ...       ...   \n",
       " 57   0.137184  0.207547  0.418502  0.755556  0.688525  0.813084  0.545455   \n",
       " 137  0.433213  0.481132  0.301762  0.688889  0.622951  0.644860  0.163636   \n",
       " 24   0.566787  0.443396  0.442731  0.388889  0.327869  0.635514  0.256364   \n",
       " 17   0.386282  0.339623  0.325991  0.388889  0.606557  0.000000  0.366364   \n",
       " 66   0.772563  0.311321  0.279736  0.622222  0.459016  0.345794  0.181818   \n",
       " \n",
       "            Zn        Fe        Cu        Mn         B  \n",
       " 395  0.530612  0.634249  0.634831  0.862094  0.662162  \n",
       " 78   0.428571  0.239958  0.303371  0.473646  0.121622  \n",
       " 278  0.244898  0.546512  0.943820  0.646209  0.283784  \n",
       " 305  0.285714  0.282241  0.303371  0.717690  0.405405  \n",
       " 325  0.306122  0.540169  0.365169  0.048375  0.459459  \n",
       " ..        ...       ...       ...       ...       ...  \n",
       " 57   0.489796  0.289641  0.567416  0.400000  0.067568  \n",
       " 137  0.204082  0.281184  0.213483  0.407942  0.202703  \n",
       " 24   0.469388  0.636364  0.331461  0.869314  0.459459  \n",
       " 17   0.795918  0.963002  0.522472  0.687365  0.972973  \n",
       " 66   0.428571  0.276956  0.455056  0.472924  0.162162  \n",
       " \n",
       " [88 rows x 12 columns],\n",
       "      Output\n",
       " 265       1\n",
       " 405       1\n",
       " 31        1\n",
       " 84        1\n",
       " 299       1\n",
       " ..      ...\n",
       " 106       1\n",
       " 270       0\n",
       " 348       1\n",
       " 435       2\n",
       " 102       1\n",
       " \n",
       " [349 rows x 1 columns],\n",
       "      Output\n",
       " 395       1\n",
       " 78        1\n",
       " 278       1\n",
       " 305       1\n",
       " 325       1\n",
       " ..      ...\n",
       " 57        0\n",
       " 137       0\n",
       " 24        0\n",
       " 17        0\n",
       " 66        1\n",
       " \n",
       " [88 rows x 1 columns])"
      ]
     },
     "execution_count": 327,
     "metadata": {},
     "output_type": "execute_result"
    }
   ],
   "source": [
    "xtrain, xtest, ytrain, ytest"
   ]
  },
  {
   "cell_type": "markdown",
   "id": "58f0cbfe",
   "metadata": {},
   "source": [
    "# training decision tree classifier"
   ]
  },
  {
   "cell_type": "code",
   "execution_count": 328,
   "id": "331654cd",
   "metadata": {},
   "outputs": [],
   "source": [
    "from sklearn.tree import DecisionTreeClassifier"
   ]
  },
  {
   "cell_type": "code",
   "execution_count": 329,
   "id": "25b0a914",
   "metadata": {},
   "outputs": [],
   "source": [
    "dtc = DecisionTreeClassifier()"
   ]
  },
  {
   "cell_type": "code",
   "execution_count": 330,
   "id": "ff869822",
   "metadata": {},
   "outputs": [
    {
     "data": {
      "text/plain": [
       "DecisionTreeClassifier()"
      ]
     },
     "execution_count": 330,
     "metadata": {},
     "output_type": "execute_result"
    }
   ],
   "source": [
    "dtc.fit(xtrain, ytrain)"
   ]
  },
  {
   "cell_type": "code",
   "execution_count": 331,
   "id": "9c916efd",
   "metadata": {},
   "outputs": [],
   "source": [
    "ypred = dtc.predict(xtest)"
   ]
  },
  {
   "cell_type": "code",
   "execution_count": 332,
   "id": "47b267a5",
   "metadata": {},
   "outputs": [
    {
     "data": {
      "text/plain": [
       "array([2, 1, 1, 1, 1, 1, 0, 2, 1, 1, 2, 1, 0, 0, 1, 1, 1, 1, 0, 1, 0, 1,\n",
       "       0, 0, 1, 1, 0, 1, 1, 0, 1, 2, 1, 1, 1, 0, 0, 0, 0, 1, 0, 0, 1, 1,\n",
       "       0, 0, 0, 1, 1, 0, 1, 0, 1, 0, 0, 0, 0, 1, 0, 0, 0, 0, 1, 0, 1, 1,\n",
       "       0, 1, 0, 0, 0, 1, 1, 0, 1, 0, 1, 0, 0, 0, 1, 0, 1, 0, 0, 1, 0, 1],\n",
       "      dtype=int64)"
      ]
     },
     "execution_count": 332,
     "metadata": {},
     "output_type": "execute_result"
    }
   ],
   "source": [
    "ypred"
   ]
  },
  {
   "cell_type": "code",
   "execution_count": 333,
   "id": "81629742",
   "metadata": {},
   "outputs": [],
   "source": [
    "from sklearn import metrics"
   ]
  },
  {
   "cell_type": "code",
   "execution_count": 334,
   "id": "7a8facf5",
   "metadata": {},
   "outputs": [
    {
     "data": {
      "text/plain": [
       "88.63636363636364"
      ]
     },
     "execution_count": 334,
     "metadata": {},
     "output_type": "execute_result"
    }
   ],
   "source": [
    "metrics.accuracy_score(ytest,ypred)*100"
   ]
  },
  {
   "cell_type": "code",
   "execution_count": 335,
   "id": "04df090b",
   "metadata": {},
   "outputs": [
    {
     "data": {
      "text/plain": [
       "<BarContainer object of 12 artists>"
      ]
     },
     "execution_count": 335,
     "metadata": {},
     "output_type": "execute_result"
    },
    {
     "data": {
      "image/png": "[encoded data removed]",
      "text/plain": [
       "<Figure size 432x288 with 1 Axes>"
      ]
     },
     "metadata": {
      "needs_background": "light"
     },
     "output_type": "display_data"
    }
   ],
   "source": [
    "plt.bar(range(xtrain.shape[1]),dtc.feature_importances_)"
   ]
  },
  {
   "cell_type": "markdown",
   "id": "3b83411d",
   "metadata": {},
   "source": [
    "so we are achieving 86 percent accuracy \n",
    "\n",
    "next we will use other classifier\n",
    "\n",
    "next we will remove some feature and train another model to check its accuracy \n",
    "\n",
    "next we will use other models wirh less features"
   ]
  },
  {
   "cell_type": "markdown",
   "id": "55099ed1",
   "metadata": {},
   "source": [
    "# optimizing decision tree"
   ]
  },
  {
   "cell_type": "code",
   "execution_count": 467,
   "id": "912f6d84",
   "metadata": {},
   "outputs": [],
   "source": [
    "dtc1 = DecisionTreeClassifier(criterion=\"entropy\", max_depth=7)"
   ]
  },
  {
   "cell_type": "code",
   "execution_count": 468,
   "id": "3aa492dc",
   "metadata": {},
   "outputs": [
    {
     "data": {
      "text/plain": [
       "DecisionTreeClassifier(criterion='entropy', max_depth=7)"
      ]
     },
     "execution_count": 468,
     "metadata": {},
     "output_type": "execute_result"
    }
   ],
   "source": [
    "dtc1.fit(xtrain, ytrain)"
   ]
  },
  {
   "cell_type": "code",
   "execution_count": 469,
   "id": "e9ca4556",
   "metadata": {},
   "outputs": [],
   "source": [
    "ypred1 = dtc1.predict(xtest)"
   ]
  },
  {
   "cell_type": "code",
   "execution_count": 470,
   "id": "ae1b0d25",
   "metadata": {},
   "outputs": [
    {
     "data": {
      "text/plain": [
       "96.5909090909091"
      ]
     },
     "execution_count": 470,
     "metadata": {},
     "output_type": "execute_result"
    }
   ],
   "source": [
    "metrics.accuracy_score(ytest,ypred1)*100"
   ]
  },
  {
   "cell_type": "code",
   "execution_count": 471,
   "id": "51293cfa",
   "metadata": {
    "scrolled": true
   },
   "outputs": [
    {
     "data": {
      "text/plain": [
       "array([1, 1, 1, 1, 1, 1, 0, 1, 1, 1, 1, 1, 0, 1, 1, 1, 1, 1, 0, 1, 0, 1,\n",
       "       0, 0, 1, 0, 0, 1, 2, 0, 1, 1, 1, 1, 1, 0, 0, 0, 0, 1, 0, 0, 1, 1,\n",
       "       1, 0, 0, 1, 1, 0, 1, 0, 1, 0, 0, 0, 0, 1, 0, 0, 0, 0, 1, 0, 1, 1,\n",
       "       0, 1, 0, 0, 0, 1, 1, 0, 1, 0, 1, 0, 0, 0, 1, 0, 1, 0, 0, 0, 0, 1],\n",
       "      dtype=int64)"
      ]
     },
     "execution_count": 471,
     "metadata": {},
     "output_type": "execute_result"
    }
   ],
   "source": [
    "ypred1"
   ]
  },
  {
   "cell_type": "markdown",
   "id": "c5bad4e3",
   "metadata": {},
   "source": [
    "so now after optimizing the decision tree we are achieving 95% accuracy"
   ]
  },
  {
   "cell_type": "code",
   "execution_count": 472,
   "id": "5a6cb3d2",
   "metadata": {},
   "outputs": [],
   "source": [
    "import matplotlib.pyplot as plt"
   ]
  },
  {
   "cell_type": "code",
   "execution_count": 473,
   "id": "7a8ce7e7",
   "metadata": {
    "scrolled": true
   },
   "outputs": [
    {
     "data": {
      "text/plain": [
       "<BarContainer object of 12 artists>"
      ]
     },
     "execution_count": 473,
     "metadata": {},
     "output_type": "execute_result"
    },
    {
     "data": {
      "image/png": "[encoded data removed]",
      "text/plain": [
       "<Figure size 432x288 with 1 Axes>"
      ]
     },
     "metadata": {
      "needs_background": "light"
     },
     "output_type": "display_data"
    }
   ],
   "source": [
    "plt.bar(range(xtrain.shape[1]),dtc1.feature_importances_)"
   ]
  },
  {
   "cell_type": "code",
   "execution_count": 474,
   "id": "20b78aeb",
   "metadata": {},
   "outputs": [
    {
     "data": {
      "text/plain": [
       "range(0, 12)"
      ]
     },
     "execution_count": 474,
     "metadata": {},
     "output_type": "execute_result"
    }
   ],
   "source": [
    "range(xtrain.shape[1])"
   ]
  },
  {
   "cell_type": "markdown",
   "id": "ffc07f13",
   "metadata": {},
   "source": [
    "# saving this 95 percent accuracy model"
   ]
  },
  {
   "cell_type": "code",
   "execution_count": 475,
   "id": "b3b86346",
   "metadata": {},
   "outputs": [],
   "source": [
    "import pickle as pk"
   ]
  },
  {
   "cell_type": "code",
   "execution_count": 476,
   "id": "d9fccaf2",
   "metadata": {},
   "outputs": [],
   "source": [
    "saved_model = pk.dumps(dtc1)"
   ]
  },
  {
   "cell_type": "code",
   "execution_count": 477,
   "id": "ce5a2db6",
   "metadata": {},
   "outputs": [],
   "source": [
    "dtc2 = pk.loads(saved_model)"
   ]
  },
  {
   "cell_type": "code",
   "execution_count": 478,
   "id": "9f7367ed",
   "metadata": {},
   "outputs": [],
   "source": [
    "ypred2 = dtc2.predict(xtest)"
   ]
  },
  {
   "cell_type": "code",
   "execution_count": 479,
   "id": "4854785f",
   "metadata": {},
   "outputs": [
    {
     "data": {
      "text/plain": [
       "0.9659090909090909"
      ]
     },
     "execution_count": 479,
     "metadata": {},
     "output_type": "execute_result"
    }
   ],
   "source": [
    "metrics.accuracy_score(ytest, ypred2)"
   ]
  },
  {
   "cell_type": "markdown",
   "id": "0525176b",
   "metadata": {},
   "source": [
    "# Training a Support Vector Machine"
   ]
  },
  {
   "cell_type": "code",
   "execution_count": 349,
   "id": "a9eee8ee",
   "metadata": {},
   "outputs": [],
   "source": [
    "from sklearn import svm"
   ]
  },
  {
   "cell_type": "code",
   "execution_count": 350,
   "id": "0a054dae",
   "metadata": {},
   "outputs": [],
   "source": [
    "model = svm.SVC(kernel='poly',degree=3, C=1)\n",
    "model1 = svm.SVC(kernel='rbf',gamma = 0.5, C=0.1)"
   ]
  },
  {
   "cell_type": "code",
   "execution_count": 351,
   "id": "4111d88b",
   "metadata": {},
   "outputs": [
    {
     "name": "stderr",
     "output_type": "stream",
     "text": [
      "C:\\Users\\user\\anaconda3\\lib\\site-packages\\sklearn\\utils\\validation.py:993: DataConversionWarning: A column-vector y was passed when a 1d array was expected. Please change the shape of y to (n_samples, ), for example using ravel().\n",
      "  y = column_or_1d(y, warn=True)\n",
      "C:\\Users\\user\\anaconda3\\lib\\site-packages\\sklearn\\utils\\validation.py:993: DataConversionWarning: A column-vector y was passed when a 1d array was expected. Please change the shape of y to (n_samples, ), for example using ravel().\n",
      "  y = column_or_1d(y, warn=True)\n"
     ]
    },
    {
     "data": {
      "text/plain": [
       "SVC(C=0.1, gamma=0.5)"
      ]
     },
     "execution_count": 351,
     "metadata": {},
     "output_type": "execute_result"
    }
   ],
   "source": [
    "model.fit(xtrain, ytrain)\n",
    "model1.fit(xtrain, ytrain)"
   ]
  },
  {
   "cell_type": "code",
   "execution_count": 352,
   "id": "5808c346",
   "metadata": {},
   "outputs": [],
   "source": [
    "ypred3 = model.predict(xtest)"
   ]
  },
  {
   "cell_type": "code",
   "execution_count": 353,
   "id": "d7fa7cab",
   "metadata": {},
   "outputs": [],
   "source": [
    "ypred4 = model1.predict(xtest)"
   ]
  },
  {
   "cell_type": "code",
   "execution_count": 354,
   "id": "850919ec",
   "metadata": {
    "scrolled": false
   },
   "outputs": [
    {
     "data": {
      "text/plain": [
       "88.63636363636364"
      ]
     },
     "execution_count": 354,
     "metadata": {},
     "output_type": "execute_result"
    }
   ],
   "source": [
    "metrics.accuracy_score(ytest,ypred3)*100"
   ]
  },
  {
   "cell_type": "code",
   "execution_count": 355,
   "id": "f7b374f0",
   "metadata": {},
   "outputs": [
    {
     "data": {
      "text/plain": [
       "90.9090909090909"
      ]
     },
     "execution_count": 355,
     "metadata": {},
     "output_type": "execute_result"
    }
   ],
   "source": [
    "metrics.accuracy_score(ytest,ypred4)*100"
   ]
  },
  {
   "cell_type": "markdown",
   "id": "72d69964",
   "metadata": {},
   "source": [
    "# training a Random Forest Classifier"
   ]
  },
  {
   "cell_type": "code",
   "execution_count": 356,
   "id": "6728ff21",
   "metadata": {},
   "outputs": [],
   "source": [
    "from sklearn.ensemble import RandomForestClassifier"
   ]
  },
  {
   "cell_type": "code",
   "execution_count": 357,
   "id": "3f7bd6c5",
   "metadata": {},
   "outputs": [],
   "source": [
    "LR = RandomForestClassifier()"
   ]
  },
  {
   "cell_type": "code",
   "execution_count": 358,
   "id": "21444ffa",
   "metadata": {},
   "outputs": [
    {
     "name": "stderr",
     "output_type": "stream",
     "text": [
      "C:\\Users\\user\\AppData\\Local\\Temp\\ipykernel_10032\\1625010934.py:1: DataConversionWarning: A column-vector y was passed when a 1d array was expected. Please change the shape of y to (n_samples,), for example using ravel().\n",
      "  LR.fit(xtrain, ytrain)\n"
     ]
    },
    {
     "data": {
      "text/plain": [
       "RandomForestClassifier()"
      ]
     },
     "execution_count": 358,
     "metadata": {},
     "output_type": "execute_result"
    }
   ],
   "source": [
    "LR.fit(xtrain, ytrain)"
   ]
  },
  {
   "cell_type": "code",
   "execution_count": 359,
   "id": "ad771c82",
   "metadata": {},
   "outputs": [],
   "source": [
    "ypred5 = LR.predict(xtest)"
   ]
  },
  {
   "cell_type": "code",
   "execution_count": 362,
   "id": "352c32b8",
   "metadata": {
    "scrolled": true
   },
   "outputs": [
    {
     "data": {
      "text/plain": [
       "94.31818181818183"
      ]
     },
     "execution_count": 362,
     "metadata": {},
     "output_type": "execute_result"
    }
   ],
   "source": [
    "metrics.accuracy_score(ytest, ypred5)*100"
   ]
  },
  {
   "cell_type": "markdown",
   "id": "529f3205",
   "metadata": {},
   "source": [
    "# some testing with data containing outliers"
   ]
  },
  {
   "cell_type": "code",
   "execution_count": 543,
   "id": "97565a85",
   "metadata": {},
   "outputs": [
    {
     "data": {
      "text/plain": [
       "(       N     P    K    pH    EC    OC      S    Zn    Fe    Cu     Mn     B\n",
       " 0    138   8.6  560  7.46  0.62  0.70   5.90  0.24  0.31  0.77   8.71  0.11\n",
       " 1    213   7.5  338  7.62  0.75  1.06  25.40  0.30  0.86  1.54   2.89  2.29\n",
       " 2    163   9.6  718  7.59  0.51  1.11  14.30  0.30  0.86  1.57   2.70  2.03\n",
       " 3    157   6.8  475  7.64  0.58  0.94  26.00  0.34  0.54  1.53   2.65  1.82\n",
       " 4    270   9.9  444  7.63  0.40  0.86  11.80  0.25  0.76  1.69   2.43  2.26\n",
       " ..   ...   ...  ...   ...   ...   ...    ...   ...   ...   ...    ...   ...\n",
       " 875  351  10.7  623  7.96  0.51  0.29   7.24  0.36  4.69  0.69  11.03  0.69\n",
       " 876  264   9.0  486  7.24  0.47  0.10   3.92  0.35  8.26  0.45   7.98  0.40\n",
       " 877  276   9.2  370  7.62  0.62  0.49   6.64  0.42  3.57  0.63   6.48  0.32\n",
       " 878  320  13.8  391  7.38  0.65  1.07   5.43  0.58  4.58  1.02  13.25  0.53\n",
       " 879  264  10.3  475  7.49  0.74  0.88  10.56  0.45  7.36  1.87  10.63  0.63\n",
       " \n",
       " [880 rows x 12 columns],\n",
       "      Output\n",
       " 0         0\n",
       " 1         0\n",
       " 2         0\n",
       " 3         0\n",
       " 4         1\n",
       " ..      ...\n",
       " 875       1\n",
       " 876       1\n",
       " 877       1\n",
       " 878       2\n",
       " 879       0\n",
       " \n",
       " [880 rows x 1 columns])"
      ]
     },
     "execution_count": 543,
     "metadata": {},
     "output_type": "execute_result"
    }
   ],
   "source": [
    "feature, output"
   ]
  },
  {
   "cell_type": "code",
   "execution_count": 544,
   "id": "e918b874",
   "metadata": {},
   "outputs": [],
   "source": [
    "xtrain1, xtest1 , ytrain1, ytest = tt(feature , output, test_size=0.2, random_state= 40)"
   ]
  },
  {
   "cell_type": "code",
   "execution_count": 545,
   "id": "ca694a51",
   "metadata": {},
   "outputs": [],
   "source": [
    "des = DecisionTreeClassifier(criterion=\"entropy\", max_depth=8)"
   ]
  },
  {
   "cell_type": "code",
   "execution_count": 546,
   "id": "e88c6d73",
   "metadata": {},
   "outputs": [
    {
     "data": {
      "text/plain": [
       "DecisionTreeClassifier(criterion='entropy', max_depth=8)"
      ]
     },
     "execution_count": 546,
     "metadata": {},
     "output_type": "execute_result"
    }
   ],
   "source": [
    "des.fit(xtrain1,ytrain1)"
   ]
  },
  {
   "cell_type": "code",
   "execution_count": 547,
   "id": "c253c334",
   "metadata": {},
   "outputs": [],
   "source": [
    "ypred6 = des.predict(xtest1)"
   ]
  },
  {
   "cell_type": "code",
   "execution_count": 548,
   "id": "fbc65135",
   "metadata": {},
   "outputs": [
    {
     "data": {
      "text/plain": [
       "0.8806818181818182"
      ]
     },
     "execution_count": 548,
     "metadata": {},
     "output_type": "execute_result"
    }
   ],
   "source": [
    "metrics.accuracy_score(ytest,ypred6)"
   ]
  },
  {
   "cell_type": "markdown",
   "id": "cc9c652e",
   "metadata": {},
   "source": [
    "# dropping some not useful columns"
   ]
  },
  {
   "cell_type": "code",
   "execution_count": 590,
   "id": "e94a1585",
   "metadata": {},
   "outputs": [
    {
     "data": {
      "text/html": [
       "<div>\n",
       "<style scoped>\n",
       "    .dataframe tbody tr th:only-of-type {\n",
       "        vertical-align: middle;\n",
       "    }\n",
       "\n",
       "    .dataframe tbody tr th {\n",
       "        vertical-align: top;\n",
       "    }\n",
       "\n",
       "    .dataframe thead th {\n",
       "        text-align: right;\n",
       "    }\n",
       "</style>\n",
       "<table border=\"1\" class=\"dataframe\">\n",
       "  <thead>\n",
       "    <tr style=\"text-align: right;\">\n",
       "      <th></th>\n",
       "      <th>Output</th>\n",
       "    </tr>\n",
       "  </thead>\n",
       "  <tbody>\n",
       "    <tr>\n",
       "      <th>0</th>\n",
       "      <td>0</td>\n",
       "    </tr>\n",
       "    <tr>\n",
       "      <th>1</th>\n",
       "      <td>0</td>\n",
       "    </tr>\n",
       "    <tr>\n",
       "      <th>2</th>\n",
       "      <td>0</td>\n",
       "    </tr>\n",
       "    <tr>\n",
       "      <th>3</th>\n",
       "      <td>0</td>\n",
       "    </tr>\n",
       "    <tr>\n",
       "      <th>4</th>\n",
       "      <td>1</td>\n",
       "    </tr>\n",
       "    <tr>\n",
       "      <th>...</th>\n",
       "      <td>...</td>\n",
       "    </tr>\n",
       "    <tr>\n",
       "      <th>875</th>\n",
       "      <td>1</td>\n",
       "    </tr>\n",
       "    <tr>\n",
       "      <th>876</th>\n",
       "      <td>1</td>\n",
       "    </tr>\n",
       "    <tr>\n",
       "      <th>877</th>\n",
       "      <td>1</td>\n",
       "    </tr>\n",
       "    <tr>\n",
       "      <th>878</th>\n",
       "      <td>2</td>\n",
       "    </tr>\n",
       "    <tr>\n",
       "      <th>879</th>\n",
       "      <td>0</td>\n",
       "    </tr>\n",
       "  </tbody>\n",
       "</table>\n",
       "<p>880 rows × 1 columns</p>\n",
       "</div>"
      ],
      "text/plain": [
       "     Output\n",
       "0         0\n",
       "1         0\n",
       "2         0\n",
       "3         0\n",
       "4         1\n",
       "..      ...\n",
       "875       1\n",
       "876       1\n",
       "877       1\n",
       "878       2\n",
       "879       0\n",
       "\n",
       "[880 rows x 1 columns]"
      ]
     },
     "execution_count": 590,
     "metadata": {},
     "output_type": "execute_result"
    }
   ],
   "source": [
    "output"
   ]
  },
  {
   "cell_type": "code",
   "execution_count": 668,
   "id": "c0689bfa",
   "metadata": {},
   "outputs": [],
   "source": [
    "reducedFeature = feature[['N','P','pH','B']]"
   ]
  },
  {
   "cell_type": "code",
   "execution_count": 669,
   "id": "ae9e1361",
   "metadata": {},
   "outputs": [],
   "source": [
    "xtrain1, xtest1 , ytrain1, ytest1 = tt(reducedFeature , output, test_size=0.2, random_state= 30)"
   ]
  },
  {
   "cell_type": "code",
   "execution_count": 670,
   "id": "4f3f2bf9",
   "metadata": {},
   "outputs": [],
   "source": [
    "des = DecisionTreeClassifier(criterion=\"entropy\", max_depth=7)"
   ]
  },
  {
   "cell_type": "code",
   "execution_count": 671,
   "id": "4321bac9",
   "metadata": {},
   "outputs": [
    {
     "data": {
      "text/plain": [
       "DecisionTreeClassifier(criterion='entropy', max_depth=7)"
      ]
     },
     "execution_count": 671,
     "metadata": {},
     "output_type": "execute_result"
    }
   ],
   "source": [
    "des.fit(xtrain1,ytrain1)"
   ]
  },
  {
   "cell_type": "code",
   "execution_count": 672,
   "id": "ebeb0533",
   "metadata": {},
   "outputs": [],
   "source": [
    "ypred6 = des.predict(xtest1)"
   ]
  },
  {
   "cell_type": "code",
   "execution_count": 673,
   "id": "f22c9707",
   "metadata": {},
   "outputs": [
    {
     "data": {
      "text/plain": [
       "0.875"
      ]
     },
     "execution_count": 673,
     "metadata": {},
     "output_type": "execute_result"
    }
   ],
   "source": [
    "metrics.accuracy_score(ytest1,ypred6)"
   ]
  },
  {
   "cell_type": "code",
   "execution_count": 674,
   "id": "faf98c16",
   "metadata": {},
   "outputs": [
    {
     "data": {
      "text/plain": [
       "<BarContainer object of 4 artists>"
      ]
     },
     "execution_count": 674,
     "metadata": {},
     "output_type": "execute_result"
    },
    {
     "data": {
      "image/png": "[encoded data removed]",
      "text/plain": [
       "<Figure size 432x288 with 1 Axes>"
      ]
     },
     "metadata": {
      "needs_background": "light"
     },
     "output_type": "display_data"
    }
   ],
   "source": [
    "plt.bar(range(xtrain1.shape[1]),des.feature_importances_)"
   ]
  },
  {
   "cell_type": "markdown",
   "id": "2ce00d00",
   "metadata": {},
   "source": [
    "# now with no outlier data"
   ]
  },
  {
   "cell_type": "code",
   "execution_count": 775,
   "id": "8f6020a7",
   "metadata": {},
   "outputs": [
    {
     "data": {
      "text/html": [
       "<div>\n",
       "<style scoped>\n",
       "    .dataframe tbody tr th:only-of-type {\n",
       "        vertical-align: middle;\n",
       "    }\n",
       "\n",
       "    .dataframe tbody tr th {\n",
       "        vertical-align: top;\n",
       "    }\n",
       "\n",
       "    .dataframe thead th {\n",
       "        text-align: right;\n",
       "    }\n",
       "</style>\n",
       "<table border=\"1\" class=\"dataframe\">\n",
       "  <thead>\n",
       "    <tr style=\"text-align: right;\">\n",
       "      <th></th>\n",
       "      <th>N</th>\n",
       "      <th>P</th>\n",
       "      <th>K</th>\n",
       "      <th>pH</th>\n",
       "      <th>EC</th>\n",
       "      <th>OC</th>\n",
       "      <th>S</th>\n",
       "      <th>Zn</th>\n",
       "      <th>Fe</th>\n",
       "      <th>Cu</th>\n",
       "      <th>Mn</th>\n",
       "      <th>B</th>\n",
       "    </tr>\n",
       "  </thead>\n",
       "  <tbody>\n",
       "    <tr>\n",
       "      <th>0</th>\n",
       "      <td>0.137184</td>\n",
       "      <td>0.443396</td>\n",
       "      <td>0.651982</td>\n",
       "      <td>0.455556</td>\n",
       "      <td>0.622951</td>\n",
       "      <td>0.560748</td>\n",
       "      <td>0.381818</td>\n",
       "      <td>0.224490</td>\n",
       "      <td>0.010571</td>\n",
       "      <td>0.382022</td>\n",
       "      <td>0.476534</td>\n",
       "      <td>0.067568</td>\n",
       "    </tr>\n",
       "    <tr>\n",
       "      <th>1</th>\n",
       "      <td>0.523466</td>\n",
       "      <td>0.396226</td>\n",
       "      <td>0.651982</td>\n",
       "      <td>0.288889</td>\n",
       "      <td>0.639344</td>\n",
       "      <td>0.635514</td>\n",
       "      <td>0.900000</td>\n",
       "      <td>0.326531</td>\n",
       "      <td>0.023256</td>\n",
       "      <td>0.269663</td>\n",
       "      <td>0.405776</td>\n",
       "      <td>0.918919</td>\n",
       "    </tr>\n",
       "    <tr>\n",
       "      <th>2</th>\n",
       "      <td>0.523466</td>\n",
       "      <td>0.415094</td>\n",
       "      <td>0.651982</td>\n",
       "      <td>0.588889</td>\n",
       "      <td>0.819672</td>\n",
       "      <td>0.682243</td>\n",
       "      <td>0.590909</td>\n",
       "      <td>0.387755</td>\n",
       "      <td>0.079281</td>\n",
       "      <td>0.831461</td>\n",
       "      <td>0.040433</td>\n",
       "      <td>0.716216</td>\n",
       "    </tr>\n",
       "    <tr>\n",
       "      <th>3</th>\n",
       "      <td>0.025271</td>\n",
       "      <td>0.415094</td>\n",
       "      <td>0.766520</td>\n",
       "      <td>0.422222</td>\n",
       "      <td>0.311475</td>\n",
       "      <td>0.607477</td>\n",
       "      <td>0.500000</td>\n",
       "      <td>0.102041</td>\n",
       "      <td>0.078224</td>\n",
       "      <td>0.449438</td>\n",
       "      <td>0.003610</td>\n",
       "      <td>0.918919</td>\n",
       "    </tr>\n",
       "    <tr>\n",
       "      <th>4</th>\n",
       "      <td>0.364621</td>\n",
       "      <td>0.132075</td>\n",
       "      <td>0.535242</td>\n",
       "      <td>0.611111</td>\n",
       "      <td>0.475410</td>\n",
       "      <td>0.271028</td>\n",
       "      <td>0.832727</td>\n",
       "      <td>0.387755</td>\n",
       "      <td>0.963002</td>\n",
       "      <td>0.337079</td>\n",
       "      <td>0.499639</td>\n",
       "      <td>0.851351</td>\n",
       "    </tr>\n",
       "    <tr>\n",
       "      <th>...</th>\n",
       "      <td>...</td>\n",
       "      <td>...</td>\n",
       "      <td>...</td>\n",
       "      <td>...</td>\n",
       "      <td>...</td>\n",
       "      <td>...</td>\n",
       "      <td>...</td>\n",
       "      <td>...</td>\n",
       "      <td>...</td>\n",
       "      <td>...</td>\n",
       "      <td>...</td>\n",
       "      <td>...</td>\n",
       "    </tr>\n",
       "    <tr>\n",
       "      <th>432</th>\n",
       "      <td>0.862816</td>\n",
       "      <td>0.415094</td>\n",
       "      <td>0.255507</td>\n",
       "      <td>0.688889</td>\n",
       "      <td>0.131148</td>\n",
       "      <td>0.728972</td>\n",
       "      <td>0.311818</td>\n",
       "      <td>0.408163</td>\n",
       "      <td>0.819239</td>\n",
       "      <td>0.876404</td>\n",
       "      <td>0.748014</td>\n",
       "      <td>0.513514</td>\n",
       "    </tr>\n",
       "    <tr>\n",
       "      <th>433</th>\n",
       "      <td>0.592058</td>\n",
       "      <td>0.481132</td>\n",
       "      <td>0.488987</td>\n",
       "      <td>0.211111</td>\n",
       "      <td>0.377049</td>\n",
       "      <td>0.000000</td>\n",
       "      <td>0.201818</td>\n",
       "      <td>0.448980</td>\n",
       "      <td>0.850951</td>\n",
       "      <td>0.202247</td>\n",
       "      <td>0.423827</td>\n",
       "      <td>0.459459</td>\n",
       "    </tr>\n",
       "    <tr>\n",
       "      <th>434</th>\n",
       "      <td>0.635379</td>\n",
       "      <td>0.500000</td>\n",
       "      <td>0.233480</td>\n",
       "      <td>0.633333</td>\n",
       "      <td>0.622951</td>\n",
       "      <td>0.364486</td>\n",
       "      <td>0.449091</td>\n",
       "      <td>0.591837</td>\n",
       "      <td>0.355180</td>\n",
       "      <td>0.303371</td>\n",
       "      <td>0.315523</td>\n",
       "      <td>0.351351</td>\n",
       "    </tr>\n",
       "    <tr>\n",
       "      <th>435</th>\n",
       "      <td>0.794224</td>\n",
       "      <td>0.933962</td>\n",
       "      <td>0.279736</td>\n",
       "      <td>0.366667</td>\n",
       "      <td>0.672131</td>\n",
       "      <td>0.906542</td>\n",
       "      <td>0.339091</td>\n",
       "      <td>0.918367</td>\n",
       "      <td>0.461945</td>\n",
       "      <td>0.522472</td>\n",
       "      <td>0.804332</td>\n",
       "      <td>0.635135</td>\n",
       "    </tr>\n",
       "    <tr>\n",
       "      <th>436</th>\n",
       "      <td>0.592058</td>\n",
       "      <td>0.603774</td>\n",
       "      <td>0.464758</td>\n",
       "      <td>0.488889</td>\n",
       "      <td>0.819672</td>\n",
       "      <td>0.728972</td>\n",
       "      <td>0.805455</td>\n",
       "      <td>0.653061</td>\n",
       "      <td>0.755814</td>\n",
       "      <td>1.000000</td>\n",
       "      <td>0.615162</td>\n",
       "      <td>0.770270</td>\n",
       "    </tr>\n",
       "  </tbody>\n",
       "</table>\n",
       "<p>437 rows × 12 columns</p>\n",
       "</div>"
      ],
      "text/plain": [
       "            N         P         K        pH        EC        OC         S  \\\n",
       "0    0.137184  0.443396  0.651982  0.455556  0.622951  0.560748  0.381818   \n",
       "1    0.523466  0.396226  0.651982  0.288889  0.639344  0.635514  0.900000   \n",
       "2    0.523466  0.415094  0.651982  0.588889  0.819672  0.682243  0.590909   \n",
       "3    0.025271  0.415094  0.766520  0.422222  0.311475  0.607477  0.500000   \n",
       "4    0.364621  0.132075  0.535242  0.611111  0.475410  0.271028  0.832727   \n",
       "..        ...       ...       ...       ...       ...       ...       ...   \n",
       "432  0.862816  0.415094  0.255507  0.688889  0.131148  0.728972  0.311818   \n",
       "433  0.592058  0.481132  0.488987  0.211111  0.377049  0.000000  0.201818   \n",
       "434  0.635379  0.500000  0.233480  0.633333  0.622951  0.364486  0.449091   \n",
       "435  0.794224  0.933962  0.279736  0.366667  0.672131  0.906542  0.339091   \n",
       "436  0.592058  0.603774  0.464758  0.488889  0.819672  0.728972  0.805455   \n",
       "\n",
       "           Zn        Fe        Cu        Mn         B  \n",
       "0    0.224490  0.010571  0.382022  0.476534  0.067568  \n",
       "1    0.326531  0.023256  0.269663  0.405776  0.918919  \n",
       "2    0.387755  0.079281  0.831461  0.040433  0.716216  \n",
       "3    0.102041  0.078224  0.449438  0.003610  0.918919  \n",
       "4    0.387755  0.963002  0.337079  0.499639  0.851351  \n",
       "..        ...       ...       ...       ...       ...  \n",
       "432  0.408163  0.819239  0.876404  0.748014  0.513514  \n",
       "433  0.448980  0.850951  0.202247  0.423827  0.459459  \n",
       "434  0.591837  0.355180  0.303371  0.315523  0.351351  \n",
       "435  0.918367  0.461945  0.522472  0.804332  0.635135  \n",
       "436  0.653061  0.755814  1.000000  0.615162  0.770270  \n",
       "\n",
       "[437 rows x 12 columns]"
      ]
     },
     "execution_count": 775,
     "metadata": {},
     "output_type": "execute_result"
    }
   ],
   "source": [
    "ScaledFeatureDF"
   ]
  },
  {
   "cell_type": "code",
   "execution_count": 817,
   "id": "74bbbad4",
   "metadata": {},
   "outputs": [
    {
     "data": {
      "text/html": [
       "<div>\n",
       "<style scoped>\n",
       "    .dataframe tbody tr th:only-of-type {\n",
       "        vertical-align: middle;\n",
       "    }\n",
       "\n",
       "    .dataframe tbody tr th {\n",
       "        vertical-align: top;\n",
       "    }\n",
       "\n",
       "    .dataframe thead th {\n",
       "        text-align: right;\n",
       "    }\n",
       "</style>\n",
       "<table border=\"1\" class=\"dataframe\">\n",
       "  <thead>\n",
       "    <tr style=\"text-align: right;\">\n",
       "      <th></th>\n",
       "      <th>Output</th>\n",
       "    </tr>\n",
       "  </thead>\n",
       "  <tbody>\n",
       "    <tr>\n",
       "      <th>0</th>\n",
       "      <td>0</td>\n",
       "    </tr>\n",
       "    <tr>\n",
       "      <th>1</th>\n",
       "      <td>0</td>\n",
       "    </tr>\n",
       "    <tr>\n",
       "      <th>2</th>\n",
       "      <td>0</td>\n",
       "    </tr>\n",
       "    <tr>\n",
       "      <th>3</th>\n",
       "      <td>0</td>\n",
       "    </tr>\n",
       "    <tr>\n",
       "      <th>4</th>\n",
       "      <td>0</td>\n",
       "    </tr>\n",
       "    <tr>\n",
       "      <th>...</th>\n",
       "      <td>...</td>\n",
       "    </tr>\n",
       "    <tr>\n",
       "      <th>432</th>\n",
       "      <td>1</td>\n",
       "    </tr>\n",
       "    <tr>\n",
       "      <th>433</th>\n",
       "      <td>1</td>\n",
       "    </tr>\n",
       "    <tr>\n",
       "      <th>434</th>\n",
       "      <td>1</td>\n",
       "    </tr>\n",
       "    <tr>\n",
       "      <th>435</th>\n",
       "      <td>2</td>\n",
       "    </tr>\n",
       "    <tr>\n",
       "      <th>436</th>\n",
       "      <td>0</td>\n",
       "    </tr>\n",
       "  </tbody>\n",
       "</table>\n",
       "<p>437 rows × 1 columns</p>\n",
       "</div>"
      ],
      "text/plain": [
       "     Output\n",
       "0         0\n",
       "1         0\n",
       "2         0\n",
       "3         0\n",
       "4         0\n",
       "..      ...\n",
       "432       1\n",
       "433       1\n",
       "434       1\n",
       "435       2\n",
       "436       0\n",
       "\n",
       "[437 rows x 1 columns]"
      ]
     },
     "execution_count": 817,
     "metadata": {},
     "output_type": "execute_result"
    }
   ],
   "source": [
    "Fertility"
   ]
  },
  {
   "cell_type": "code",
   "execution_count": 911,
   "id": "ba84ece6",
   "metadata": {},
   "outputs": [],
   "source": [
    "reducedFeature = ScaledFeatureDF[['N','P','Fe','Cu']]"
   ]
  },
  {
   "cell_type": "code",
   "execution_count": 912,
   "id": "4bfca07c",
   "metadata": {},
   "outputs": [
    {
     "data": {
      "text/plain": [
       "0.9318181818181818"
      ]
     },
     "execution_count": 912,
     "metadata": {},
     "output_type": "execute_result"
    }
   ],
   "source": [
    "xtrain1, xtest1 , ytrain1, ytest1 = tt(reducedFeature , Fertility , test_size=0.3, random_state= 30)\n",
    "des11 = DecisionTreeClassifier(criterion=\"entropy\", max_depth=5, max_features=4)\n",
    "des11.fit(xtrain1,ytrain1)\n",
    "ypred6 = des11.predict(xtest1)\n",
    "metrics.accuracy_score(ytest1,ypred6)"
   ]
  },
  {
   "cell_type": "code",
   "execution_count": 913,
   "id": "cf492cbd",
   "metadata": {},
   "outputs": [
    {
     "data": {
      "text/plain": [
       "<BarContainer object of 4 artists>"
      ]
     },
     "execution_count": 913,
     "metadata": {},
     "output_type": "execute_result"
    },
    {
     "data": {
      "image/png": "[encoded data removed]",
      "text/plain": [
       "<Figure size 432x288 with 1 Axes>"
      ]
     },
     "metadata": {
      "needs_background": "light"
     },
     "output_type": "display_data"
    }
   ],
   "source": [
    "plt.bar(range(xtrain1.shape[1]),des11.feature_importances_)"
   ]
  },
  {
   "cell_type": "code",
   "execution_count": 914,
   "id": "c7aef030",
   "metadata": {},
   "outputs": [
    {
     "data": {
      "text/plain": [
       "array([0, 0, 0, 1, 1, 1, 1, 1, 0, 1, 1, 1, 0, 0, 1, 0, 0, 1, 2, 0, 1, 1,\n",
       "       1, 0, 1, 0, 1, 0, 0, 0, 0, 1, 1, 0, 0, 1, 0, 0, 1, 1, 0, 1, 0, 1,\n",
       "       2, 1, 1, 0, 1, 1, 1, 0, 1, 0, 0, 0, 0, 1, 0, 1, 0, 1, 0, 1, 1, 0,\n",
       "       1, 0, 1, 0, 0, 1, 0, 0, 0, 1, 1, 0, 0, 1, 1, 2, 0, 1, 0, 0, 1, 0,\n",
       "       0, 1, 0, 0, 1, 1, 0, 0, 0, 1, 0, 2, 1, 1, 1, 0, 1, 0, 0, 0, 0, 0,\n",
       "       0, 1, 0, 0, 0, 1, 0, 0, 0, 0, 1, 1, 0, 1, 0, 0, 0, 0, 0, 0, 0, 0],\n",
       "      dtype=int64)"
      ]
     },
     "execution_count": 914,
     "metadata": {},
     "output_type": "execute_result"
    }
   ],
   "source": [
    "ypred6"
   ]
  }
 ],
 "metadata": {
  "kernelspec": {
   "display_name": "Python 3 (ipykernel)",
   "language": "python",
   "name": "python3"
  },
  "language_info": {
   "codemirror_mode": {
    "name": "ipython",
    "version": 3
   },
   "file_extension": ".py",
   "mimetype": "text/x-python",
   "name": "python",
   "nbconvert_exporter": "python",
   "pygments_lexer": "ipython3",
   "version": "3.9.12"
  }
 },
 "nbformat": 4,
 "nbformat_minor": 5
}
